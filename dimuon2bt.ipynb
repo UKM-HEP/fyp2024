{
 "cells": [
  {
   "cell_type": "code",
   "execution_count": 1,
   "id": "d4129869-bc12-4f75-a4f0-c33e55b0e08d",
   "metadata": {},
   "outputs": [
    {
     "name": "stderr",
     "output_type": "stream",
     "text": [
      "/usr/local/venv/lib/python3.10/site-packages/coffea/nanoevents/schemas/fcc.py:5: FutureWarning: In version 2025.1.0 (target date: 2024-12-31 11:59:59-06:00), this will be an error.\n",
      "To raise these warnings as errors (and get stack traces to find out where they're called), run\n",
      "    import warnings\n",
      "    warnings.filterwarnings(\"error\", module=\"coffea.*\")\n",
      "after the first `import coffea` or use `@pytest.mark.filterwarnings(\"error:::coffea.*\")` in pytest.\n",
      "Issue: coffea.nanoevents.methods.vector will be removed and replaced with scikit-hep vector. Nanoevents schemas internal to coffea will be migrated. Otherwise please consider using that package!.\n",
      "  from coffea.nanoevents.methods import vector\n",
      "/usr/local/venv/lib/python3.10/site-packages/coffea/nanoevents/schemas/nanoaod.py:264: RuntimeWarning: Missing cross-reference index for LowPtElectron_electronIdx => Electron\n",
      "  warnings.warn(\n",
      "/usr/local/venv/lib/python3.10/site-packages/coffea/nanoevents/schemas/nanoaod.py:264: RuntimeWarning: Missing cross-reference index for LowPtElectron_photonIdx => Photon\n",
      "  warnings.warn(\n"
     ]
    },
    {
     "name": "stdout",
     "output_type": "stream",
     "text": [
      "Number of events =  2167324\n"
     ]
    }
   ],
   "source": [
    "import awkward as ak\n",
    "from coffea.nanoevents import NanoEventsFactory, NanoAODSchema\n",
    "\n",
    "#fname = \"root://eospublic.cern.ch//eos/opendata/cms/Run2016H/DoubleMuon/NANOAOD/UL2016_MiniAODv2_NanoAODv9-v1/2510000/127C2975-1B1C-A046-AABF-62B77E757A86.root\"\n",
    "#fname = \"file:/opendata_cms/DoubleMuon/Run2016H-UL2016_MiniAODv2_NanoAODv9-v1/NANOAOD/127C2975-1B1C-A046-AABF-62B77E757A86.root\"\n",
    "fname = \"file:///code/data/EEB2FE3F-7CF3-BF4A-9F70-3F89FACE698E.root\"\n",
    "events = NanoEventsFactory.from_root(\n",
    "    {fname: \"Events\"},\n",
    "    schemaclass=NanoAODSchema,\n",
    "    metadata={\"dataset\": \"DoubleMuon\"},\n",
    ").events()\n",
    "\n",
    "print(\"Number of events = \", ak.num(events.Muon, axis=0).compute())"
   ]
  },
  {
   "cell_type": "code",
   "execution_count": 2,
   "id": "5d14bff8-5971-4865-8b96-84ad73872a61",
   "metadata": {},
   "outputs": [
    {
     "name": "stdout",
     "output_type": "stream",
     "text": [
      "Number of muons =  4749697\n"
     ]
    }
   ],
   "source": [
    "print(\"Number of muons = \", ak.count(events.Muon.mass, axis=None).compute())"
   ]
  },
  {
   "cell_type": "code",
   "execution_count": 3,
   "id": "54b21cbc-ac2c-4913-a4ae-ba1e5839a621",
   "metadata": {},
   "outputs": [
    {
     "name": "stdout",
     "output_type": "stream",
     "text": [
      "Number of selected muons after isGlobal==1:  4126670\n"
     ]
    }
   ],
   "source": [
    "selected_muons = events.Muon[(events.Muon.isGlobal == 1)]\n",
    "print(\"Number of selected muons after isGlobal==1: \", ak.count(selected_muons.mass, axis=None).compute())"
   ]
  },
  {
   "cell_type": "code",
   "execution_count": 4,
   "id": "1f3e24ce-4359-4f49-a564-c83aff818980",
   "metadata": {},
   "outputs": [
    {
     "name": "stdout",
     "output_type": "stream",
     "text": [
      "Number of selected muons after nStations>0:  3960328\n"
     ]
    }
   ],
   "source": [
    "selected_muons = selected_muons[(selected_muons.nStations > 0)]\n",
    "print(\"Number of selected muons after nStations>0: \", ak.count(selected_muons.mass, axis=None).compute())"
   ]
  },
  {
   "cell_type": "code",
   "execution_count": 5,
   "id": "b69173dc-99be-4559-91c5-9276337d6f11",
   "metadata": {},
   "outputs": [
    {
     "name": "stdout",
     "output_type": "stream",
     "text": [
      "Number of selected muons after nTrackerLayers>5:  3939447\n"
     ]
    }
   ],
   "source": [
    "selected_muons = selected_muons[(selected_muons.nTrackerLayers > 5)]\n",
    "print(\"Number of selected muons after nTrackerLayers>5: \", ak.count(selected_muons.mass, axis=None).compute())"
   ]
  },
  {
   "cell_type": "code",
   "execution_count": 6,
   "id": "bfa44cab-782f-4991-8dde-8d73f285bba5",
   "metadata": {},
   "outputs": [
    {
     "name": "stdout",
     "output_type": "stream",
     "text": [
      "Number of selected muons after PV impact param sel:  3924428\n"
     ]
    }
   ],
   "source": [
    "selected_muons = selected_muons[(selected_muons.dxy < 0.3) & (selected_muons.dz < 20.0)]\n",
    "print(\"Number of selected muons after PV impact param sel: \", ak.count(selected_muons.mass, axis=None).compute())       "
   ]
  },
  {
   "cell_type": "code",
   "execution_count": 7,
   "id": "9aead1b7-532c-4120-bcf1-e8ef51f05656",
   "metadata": {},
   "outputs": [
    {
     "name": "stdout",
     "output_type": "stream",
     "text": [
      "Number of selected muons after pt,eta sel:  3915277\n"
     ]
    }
   ],
   "source": [
    "selected_muons = selected_muons[(selected_muons.pt > 3.0) & (abs(selected_muons.eta) < 2.4)]\n",
    "print(\"Number of selected muons after pt,eta sel: \", ak.count(selected_muons.mass, axis=None).compute())"
   ]
  },
  {
   "cell_type": "code",
   "execution_count": 8,
   "id": "49d27576-8b67-49ef-87af-e95cd440b94f",
   "metadata": {},
   "outputs": [
    {
     "name": "stdout",
     "output_type": "stream",
     "text": [
      "Number of selected muons after ptcone30 isolation:  2656161\n"
     ]
    }
   ],
   "source": [
    "selected_muons = selected_muons[(selected_muons.pfRelIso03_chg < 0.5)]\n",
    "print(\"Number of selected muons after ptcone30 isolation: \", ak.count(selected_muons.mass, axis=None).compute())"
   ]
  },
  {
   "cell_type": "code",
   "execution_count": 9,
   "id": "67bff0ec-4ba8-4242-a390-84c9f7ee2c9a",
   "metadata": {},
   "outputs": [
    {
     "name": "stdout",
     "output_type": "stream",
     "text": [
      "Number of selected events with num(muons)>0:  1605413\n",
      "Corresponding number of selected muons:  2656161\n"
     ]
    }
   ],
   "source": [
    "selectede_muons = selected_muons[ak.num(selected_muons) > 0]\n",
    "print(\"Number of selected events with num(muons)>0: \", ak.num(selectede_muons.mass, axis=0).compute())\n",
    "print(\"Corresponding number of selected muons: \", ak.count(selectede_muons.mass, axis=None).compute())"
   ]
  },
  {
   "cell_type": "code",
   "execution_count": 10,
   "id": "a9e45eb0-ea24-48be-a39a-fadd65b232e7",
   "metadata": {},
   "outputs": [],
   "source": [
    "#selected_muons_c = selected_muons.compute()\n",
    "pass"
   ]
  },
  {
   "cell_type": "code",
   "execution_count": 11,
   "id": "093d30a3-ac24-498d-890f-a05942a0b0e2",
   "metadata": {},
   "outputs": [],
   "source": [
    "fourmuon = ak.combinations(selected_muons, 4, fields=['lep1','lep2','lep3','lep4'])"
   ]
  },
  {
   "cell_type": "code",
   "execution_count": 12,
   "id": "44d20f8a-1eac-4f15-9aed-20df833dc04c",
   "metadata": {},
   "outputs": [
    {
     "name": "stdout",
     "output_type": "stream",
     "text": [
      "<class 'dask_awkward.lib.core.Array'>\n"
     ]
    }
   ],
   "source": [
    "print(type(fourmuon))"
   ]
  },
  {
   "cell_type": "code",
   "execution_count": 13,
   "id": "ed09c3fc-bbf3-4cd5-bfdc-b2ba7044e50d",
   "metadata": {},
   "outputs": [
    {
     "name": "stdout",
     "output_type": "stream",
     "text": [
      "Number of 4-muon combination:  5361\n"
     ]
    }
   ],
   "source": [
    "print(\"Number of 4-muon combination: \", ak.count(fourmuon.lep1.mass, axis=None).compute())"
   ]
  },
  {
   "cell_type": "code",
   "execution_count": 14,
   "id": "59e1092c-7c3c-4189-baf4-0f985a069248",
   "metadata": {},
   "outputs": [],
   "source": [
    "fourmuon_c = fourmuon.compute()"
   ]
  },
  {
   "cell_type": "code",
   "execution_count": 15,
   "id": "a5accf2e-4c4f-4434-8dca-ae823619333f",
   "metadata": {},
   "outputs": [
    {
     "name": "stdout",
     "output_type": "stream",
     "text": [
      "Number of 4-muon (computed) combination:  5361\n"
     ]
    }
   ],
   "source": [
    "print(\"Number of 4-muon (computed) combination: \", ak.count(fourmuon_c.lep1.mass, axis=None))"
   ]
  },
  {
   "cell_type": "code",
   "execution_count": 16,
   "id": "beed5cd1-f376-4cfe-9bf3-b4b63e2119a7",
   "metadata": {},
   "outputs": [
    {
     "name": "stdout",
     "output_type": "stream",
     "text": [
      "Number of 4-muon (computed) combination:  5361\n"
     ]
    }
   ],
   "source": [
    "# should be the same as above\n",
    "print(\"Number of 4-muon (computed) combination: \", ak.count(fourmuon_c.lep4.pt, axis=None))"
   ]
  },
  {
   "cell_type": "code",
   "execution_count": 17,
   "id": "6668c44c-bb82-43b5-98fe-00fd8cb3161b",
   "metadata": {},
   "outputs": [
    {
     "name": "stdout",
     "output_type": "stream",
     "text": [
      "[[0, 0, 0, 0, 2], [0, 0, 0, 0, -2], ..., [2, 2, 2, 0, 0], [0, 0, 0, 0, -2]]\n"
     ]
    }
   ],
   "source": [
    "print(fourmuon_c.lep1.charge[ak.num(fourmuon_c)>1] + fourmuon_c.lep2.charge[ak.num(fourmuon_c)>1])"
   ]
  },
  {
   "cell_type": "code",
   "execution_count": 18,
   "id": "53cf69ff-b13b-47a5-8238-673a821f118c",
   "metadata": {},
   "outputs": [],
   "source": [
    "#fourmuon_c = fourmuon_c[((fourmuon_c.lep1.charge + fourmuon_c.lep2.charge == 0) and\n",
    "#                         (fourmuon_c.lep3.charge + fourmuon_c.lep4.charge == 0))]\n",
    "#fourmuon_c = fourmuon_c[(fourmuon_c.lep1.charge + fourmuon_c.lep2.charge == 0)]\n",
    "fourmuon_c = fourmuon_c[(fourmuon_c.lep1.charge + fourmuon_c.lep2.charge == 0) &\n",
    "                        (fourmuon_c.lep3.charge + fourmuon_c.lep4.charge == 0)]"
   ]
  },
  {
   "cell_type": "code",
   "execution_count": 19,
   "id": "bd6874f9-779d-442e-8b6b-81aeca740c2b",
   "metadata": {},
   "outputs": [],
   "source": [
    "xxx = fourmuon_c.lep1.charge + fourmuon_c.lep2.charge == 0"
   ]
  },
  {
   "cell_type": "code",
   "execution_count": 20,
   "id": "a1c8c2d7-8953-4f47-b6c7-e32250218090",
   "metadata": {},
   "outputs": [
    {
     "name": "stdout",
     "output_type": "stream",
     "text": [
      "1919 : [ True True ]\n",
      "2847 : [ True True ]\n",
      "4349 : [ True True ]\n",
      "4698 : [ True True ]\n",
      "6126 : [ True True ]\n",
      "6528 : [ True True ]\n",
      "8683 : [ True True ]\n",
      "9151 : [ True True ]\n",
      "9936 : [ True True ]\n",
      "11502 : [ True True ]\n",
      "12688 : [ True True ]\n",
      "13494 : [ True True ]\n",
      "16488 : [ True True ]\n",
      "16586 : [ True True ]\n",
      "17331 : [ True True ]\n",
      "17408 : [ True True ]\n",
      "18051 : [ True True ]\n",
      "18115 : [ True True ]\n",
      "19949 : [ True True ]\n",
      "23194 : [ True True True True True True ]\n",
      "24563 : [ True True ]\n",
      "26306 : [ True True ]\n",
      "27613 : [ True True ]\n",
      "28426 : [ True True ]\n",
      "28618 : [ True True True True ]\n",
      "30842 : [ True True ]\n",
      "35469 : [ True True ]\n",
      "36226 : [ True True ]\n",
      "37456 : [ True True True True ]\n",
      "37539 : [ True True ]\n",
      "38518 : [ True True ]\n",
      "38721 : [ True True ]\n",
      "39421 : [ True True ]\n",
      "40769 : [ True True ]\n",
      "43902 : [ True True ]\n",
      "45254 : [ True True ]\n",
      "47836 : [ True True ]\n",
      "49011 : [ True True ]\n",
      "50005 : [ True True ]\n",
      "50574 : [ True True ]\n",
      "52864 : [ True True True True ]\n",
      "53268 : [ True True ]\n",
      "55539 : [ True True ]\n",
      "56180 : [ True True ]\n",
      "56556 : [ True True ]\n",
      "57979 : [ True True True True ]\n",
      "58007 : [ True True ]\n",
      "59816 : [ True True ]\n",
      "60101 : [ True True ]\n",
      "60976 : [ True True ]\n",
      "61434 : [ True True ]\n",
      "63159 : [ True True ]\n",
      "63371 : [ True True ]\n",
      "64645 : [ True True ]\n",
      "66838 : [ True True ]\n",
      "67009 : [ True True ]\n",
      "72159 : [ True True ]\n",
      "73452 : [ True True ]\n",
      "73506 : [ True True ]\n",
      "74659 : [ True True ]\n",
      "76269 : [ True True ]\n",
      "79581 : [ True True ]\n",
      "80210 : [ True True ]\n",
      "82804 : [ True True ]\n",
      "82918 : [ True True ]\n",
      "83344 : [ True True ]\n",
      "84761 : [ True True ]\n",
      "85697 : [ True True ]\n",
      "87143 : [ True True ]\n",
      "88478 : [ True True ]\n",
      "89512 : [ True True ]\n",
      "90711 : [ True True ]\n",
      "91697 : [ True True ]\n",
      "93127 : [ True True ]\n",
      "94037 : [ True True ]\n",
      "94334 : [ True True ]\n",
      "94522 : [ True True ]\n",
      "94651 : [ True True ]\n",
      "95584 : [ True True True True True True ]\n",
      "96180 : [ True True ]\n",
      "100922 : [ True True ]\n",
      "101606 : [ True True ]\n",
      "102053 : [ True True ]\n",
      "106427 : [ True True ]\n",
      "107949 : [ True True ]\n",
      "110096 : [ True True ]\n",
      "110600 : [ True True ]\n",
      "112525 : [ True True ]\n",
      "113345 : [ True True ]\n",
      "114464 : [ True True ]\n",
      "114879 : [ True True ]\n",
      "116095 : [ True True ]\n",
      "118152 : [ True True ]\n",
      "118561 : [ True True ]\n",
      "119053 : [ True True ]\n",
      "119612 : [ True True ]\n",
      "122564 : [ True True True True ]\n",
      "128038 : [ True True ]\n",
      "128471 : [ True True ]\n",
      "130221 : [ True True ]\n",
      "130344 : [ True True ]\n"
     ]
    }
   ],
   "source": [
    "i = 0\n",
    "for j, qquad in enumerate(fourmuon_c):\n",
    "    if len(qquad) == 0:\n",
    "        continue\n",
    "    print(j, ':', '[', end=' ')\n",
    "    for quad in qquad:\n",
    "        print(quad.lep1.charge+quad.lep2.charge==0, quad.lep3.charge+quad.lep4.charge==0, end=' ')\n",
    "    print(']')\n",
    "    i = i+1\n",
    "    if i>100:\n",
    "        break"
   ]
  },
  {
   "cell_type": "code",
   "execution_count": 21,
   "id": "13677ff4-fc62-4d88-ae64-60cc03064ef9",
   "metadata": {},
   "outputs": [],
   "source": [
    "#countset = set()\n",
    "#for j, qquad in enumerate(fourmuon_c):\n",
    "#    countset.add(len(qquad))\n",
    "#print(countset)"
   ]
  },
  {
   "cell_type": "code",
   "execution_count": 22,
   "id": "3872690a-55d4-4640-a1d9-1d18cec9a3f8",
   "metadata": {},
   "outputs": [],
   "source": [
    "#counthist = {}\n",
    "#for qquad in fourmuon_c:\n",
    "#    j = len(qquad)\n",
    "#    if j in counthist:\n",
    "#        counthist[j] += 1\n",
    "#    else:\n",
    "#        counthist[j] = 1\n",
    "#print(counthist)"
   ]
  },
  {
   "cell_type": "code",
   "execution_count": 23,
   "id": "f4abb4d3-403e-4636-9341-c99209cc887d",
   "metadata": {},
   "outputs": [],
   "source": [
    "#i = 0\n",
    "#for j, qquad in enumerate(fourmuon_c):\n",
    "#    if len(qquad) == 0:\n",
    "#        continue\n",
    "#    print(j, ':', '[', end=' ')\n",
    "#    for quad in qquad:\n",
    "#        print(type(quad), end=' ')\n",
    "#        print(type(quad.lep1), end=' ')\n",
    "#        print(type(quad.lep1.pt), end=' ')\n",
    "#        print(quad.lep1.pt, quad.lep2.pt, quad.lep3.pt, quad.lep4.pt, end=' ')\n",
    "#    print(']')\n",
    "#    i = i+1\n",
    "#    if i>100:\n",
    "#        break"
   ]
  },
  {
   "cell_type": "code",
   "execution_count": 24,
   "id": "83f9348d-f62e-49ad-bdc2-aff9691b4b43",
   "metadata": {},
   "outputs": [
    {
     "name": "stdout",
     "output_type": "stream",
     "text": [
      "[11.5]\n"
     ]
    }
   ],
   "source": [
    "print(fourmuon_c[1919].lep1.pt)"
   ]
  },
  {
   "cell_type": "code",
   "execution_count": 25,
   "id": "44b77f21-69ef-40e6-acb5-f3a2bce55f6d",
   "metadata": {},
   "outputs": [
    {
     "name": "stdout",
     "output_type": "stream",
     "text": [
      "<class 'awkward.highlevel.Array'>\n"
     ]
    }
   ],
   "source": [
    "print(type(fourmuon_c[1919].lep1.pt))"
   ]
  },
  {
   "cell_type": "code",
   "execution_count": 26,
   "id": "75accddf-59ab-495c-8e9d-255079581801",
   "metadata": {},
   "outputs": [
    {
     "name": "stdout",
     "output_type": "stream",
     "text": [
      "1919 : [11.5] [6.81] [4.18] [3.48]\n",
      "2847 : [7.22] [5.21] [4.07] [3.52]\n",
      "4349 : [12.8] [4.47] [4.4] [3.66]\n",
      "4698 : [56.8] [45.9] [4.48] [3.19]\n",
      "6126 : [15.8] [13] [6.61] [4.72]\n",
      "6528 : [16.2] [13.1] [3.83] [3.1]\n",
      "8683 : [5.49] [4.3] [3.66] [3.56]\n",
      "9151 : [11.1] [6.46] [6.01] [5.69]\n",
      "9936 : [9.83] [7.87] [6.27] [3.11]\n",
      "11502 : [12.8] [7.68] [4.23] [3.82]\n",
      "12688 : [5.78] [4.68] [3.66] [3.1]\n",
      "13494 : [7.05] [5.55] [4.96] [4.75]\n",
      "16488 : [15.7] [7.42] [5.04] [3.55]\n",
      "16586 : [13.3] [5.95] [4.65] [4.57]\n",
      "17331 : [9.94] [6.86] [5.44] [4.01]\n",
      "17408 : [33.4] [17.8] [10.8] [3.62]\n",
      "18051 : [24.2] [9.64] [4.58] [3.43]\n",
      "18115 : [8.06] [5.77] [3.15] [3.09]\n",
      "19949 : [13.4] [8.83] [5.91] [3.89]\n",
      "23194 : [46.9, 46.9, 46.9] [35.5, 35.5, 8.61] [8.61, 5.83, 5.83] [4.56, 4.56, 4.56]\n",
      "24563 : [9.35] [6.38] [5.51] [4.67]\n",
      "26306 : [67] [48.5] [7.12] [3.93]\n",
      "27613 : [5.81] [4.83] [4.77] [3.94]\n",
      "28426 : [9] [6.74] [3.36] [3.05]\n",
      "28618 : [46.4, 46.4] [46, 46] [4.88, 4.88] [3.65, 3.32]\n",
      "30842 : [25] [7.78] [7.74] [3.47]\n",
      "35469 : [10.1] [8.88] [4.02] [3.21]\n",
      "36226 : [27.2] [8.04] [3.97] [3.43]\n",
      "37456 : [5.93, 5.93] [5.85, 5.85] [4.29, 4.29] [3.65, 3.57]\n",
      "37539 : [9.78] [5.18] [4.17] [3.17]\n",
      "38518 : [26.3] [11.6] [4.1] [3.39]\n",
      "38721 : [25.7] [19] [13.2] [4.31]\n",
      "39421 : [16.3] [7.8] [5.82] [4.36]\n",
      "40769 : [12] [11.5] [6.31] [3.68]\n",
      "43902 : [8.47] [4.25] [3.93] [3.47]\n",
      "45254 : [33] [28.1] [6.61] [3.49]\n",
      "47836 : [170] [65.2] [6.28] [3.78]\n",
      "49011 : [12.8] [9.15] [5.66] [4.88]\n",
      "50005 : [18.3] [6.48] [6.36] [3.86]\n",
      "50574 : [48.8] [28.4] [7.03] [5.04]\n",
      "52864 : [8.12, 7.93] [6.88, 6.88] [5.56, 5.56] [3.02, 3.02]\n",
      "53268 : [14] [12.2] [6.39] [4.15]\n",
      "55539 : [30.9] [17.6] [9.47] [3.97]\n",
      "56180 : [14] [4.66] [4.21] [3.43]\n",
      "56556 : [23] [17.9] [15.1] [3.3]\n",
      "57979 : [8.23, 8.23] [4.09, 4.09] [4.01, 4.01] [3.67, 3.09]\n",
      "58007 : [11.3] [7.44] [5.01] [3.24]\n",
      "59816 : [7.8] [5.34] [4.95] [4.89]\n",
      "60101 : [7.47] [5.59] [3.88] [3.35]\n",
      "60976 : [14.5] [12.1] [9.55] [3.46]\n",
      "61434 : [13.2] [8.37] [4.06] [3.95]\n",
      "63159 : [6.64] [5.32] [4.68] [3.57]\n",
      "63371 : [13.8] [5.72] [4.5] [3.12]\n",
      "64645 : [6] [5.49] [3.56] [3.51]\n",
      "66838 : [12.2] [9.03] [7.17] [4.05]\n",
      "67009 : [6.16] [5.72] [4.31] [3.09]\n",
      "72159 : [6.64] [4.84] [4.09] [3.33]\n",
      "73452 : [10.3] [5.35] [5.01] [3.88]\n",
      "73506 : [15.6] [9.45] [7.98] [5.25]\n",
      "74659 : [6.68] [5.94] [4.96] [4.74]\n",
      "76269 : [7.18] [5.68] [4.13] [3.57]\n",
      "79581 : [10.2] [9.9] [4.57] [3.39]\n",
      "80210 : [40.5] [7.26] [4.92] [4.51]\n",
      "82804 : [11.1] [8.95] [5.35] [3.51]\n",
      "82918 : [5.53] [5.19] [5.16] [4.01]\n",
      "83344 : [5.59] [4.66] [4.62] [4.27]\n",
      "84761 : [12.1] [5.74] [4.2] [3.08]\n",
      "85697 : [24.5] [7.47] [6.35] [5.97]\n",
      "87143 : [6.36] [3.62] [3.34] [3.13]\n",
      "88478 : [5.08] [3.88] [3.76] [3.42]\n",
      "89512 : [14.5] [10.5] [5.9] [3.61]\n",
      "90711 : [26.6] [7.3] [6.23] [6.21]\n",
      "91697 : [14.3] [11.7] [10.3] [6.14]\n",
      "93127 : [16.5] [10.3] [7.05] [5.06]\n",
      "94037 : [9.74] [5.76] [5.39] [3.41]\n",
      "94334 : [29.8] [9.79] [9.24] [8.02]\n",
      "94522 : [19.1] [9.61] [8.12] [5.57]\n",
      "94651 : [14.6] [10.3] [6.48] [4.42]\n",
      "95584 : [12.3, 12.3, 12.3] [10.5, 10.5, 6.7] [6.7, 4.13, 4.13] [4.13, 3.33, 3.33]\n",
      "96180 : [5.69] [4.58] [3.74] [3.36]\n",
      "100922 : [29.7] [18.1] [10.1] [7.2]\n",
      "101606 : [8.47] [7.64] [7.52] [4.64]\n",
      "102053 : [16.4] [9.12] [7.42] [4.52]\n",
      "106427 : [13.3] [7.54] [6.27] [3.3]\n",
      "107949 : [8.59] [5.82] [5.12] [3.98]\n",
      "110096 : [8.33] [7.6] [5.01] [3.62]\n",
      "110600 : [7.55] [6.16] [4.79] [3.95]\n",
      "112525 : [21.1] [6.97] [5.26] [4.91]\n",
      "113345 : [6.25] [4.9] [4.42] [4.21]\n",
      "114464 : [54.6] [34.1] [11.1] [8.26]\n",
      "114879 : [12] [10.5] [7.18] [5.08]\n",
      "116095 : [6.49] [5.75] [5.71] [5.21]\n",
      "118152 : [13.2] [9.04] [6.53] [3.94]\n",
      "118561 : [22.2] [4.44] [4.25] [3.96]\n",
      "119053 : [6.19] [4.65] [4.42] [4]\n",
      "119612 : [31.8] [9.34] [9.29] [4.69]\n",
      "122564 : [6.96, 5.8] [5.48, 5.48] [5.3, 5.3] [3.94, 3.94]\n",
      "128038 : [17.1] [13.3] [9.86] [3.04]\n",
      "128471 : [14.3] [9.43] [5.41] [4.68]\n",
      "130221 : [18.6] [13.2] [7.26] [6.87]\n",
      "130344 : [8.34] [4.2] [3.8] [3.33]\n"
     ]
    }
   ],
   "source": [
    "i = 0\n",
    "for j, qquad in enumerate(fourmuon_c):\n",
    "    if len(qquad) == 0:\n",
    "        continue\n",
    "    print(j, ':', qquad.lep1.pt, qquad.lep2.pt, qquad.lep3.pt, qquad.lep4.pt)\n",
    "    i += 1\n",
    "    if i>100:\n",
    "        break"
   ]
  },
  {
   "cell_type": "code",
   "execution_count": 27,
   "id": "49506343-26be-4025-81f3-144fec8253cd",
   "metadata": {},
   "outputs": [],
   "source": [
    "fourmuon_c[\"pair1\"] = fourmuon_c.lep1 + fourmuon_c.lep2\n",
    "fourmuon_c[\"pair2\"] = fourmuon_c.lep3 + fourmuon_c.lep4"
   ]
  },
  {
   "cell_type": "code",
   "execution_count": 28,
   "id": "321c8a37-f278-417e-8871-7fe0732f61c7",
   "metadata": {},
   "outputs": [
    {
     "name": "stdout",
     "output_type": "stream",
     "text": [
      "1919 : [2.76] [23.3]\n",
      "2847 : [15.9] [6.14]\n",
      "4349 : [18.9] [3.13]\n",
      "4698 : [102] [5.64]\n",
      "6126 : [2.33] [9.2]\n",
      "6528 : [3.11] [10.6]\n",
      "8683 : [1.31] [7.83]\n",
      "9151 : [2.48] [2.02]\n",
      "9936 : [3.1] [7.1]\n",
      "11502 : [16.9] [1.36]\n",
      "12688 : [5.47] [5.21]\n",
      "13494 : [3.13] [3.07]\n",
      "16488 : [17.7] [13.8]\n",
      "16586 : [20] [10.3]\n",
      "17331 : [3.1] [1.19]\n",
      "17408 : [66.3] [1.71]\n",
      "18051 : [1.5] [1.22]\n",
      "18115 : [15.4] [16.5]\n",
      "19949 : [2.83] [9.54]\n",
      "23194 : [82.2, 82.2, 7.35] [12.2, 14.5, 14.5]\n",
      "24563 : [13.5] [3.11]\n",
      "26306 : [87.6] [2.7]\n",
      "27613 : [1.61] [13.7]\n",
      "28426 : [9.5] [5.67]\n",
      "28618 : [100, 100] [12.4, 6.32]\n",
      "30842 : [2.33] [2.74]\n",
      "35469 : [39] [6.9]\n",
      "36226 : [22.4] [8.7]\n",
      "37456 : [11.8, 11.8] [10.2, 2.48]\n",
      "37539 : [2] [18.3]\n",
      "38518 : [16.5] [4.42]\n",
      "38721 : [2.99] [2.49]\n",
      "39421 : [54.1] [4.73]\n",
      "40769 : [22.6] [11.5]\n",
      "43902 : [12] [2.51]\n",
      "45254 : [96] [18.5]\n",
      "47836 : [214] [0.694]\n",
      "49011 : [3.09] [2.24]\n",
      "50005 : [1.6] [9.52]\n",
      "50574 : [82.7] [10.3]\n",
      "52864 : [15.5, 15.2] [9.89, 9.89]\n",
      "53268 : [0.517] [16.8]\n",
      "55539 : [58.3] [3.45]\n",
      "56180 : [32.2] [6.43]\n",
      "56556 : [3.05] [1.47]\n",
      "57979 : [7.66, 7.66] [7.11, 1.08]\n",
      "58007 : [3.08] [0.995]\n",
      "59816 : [2.92] [11.4]\n",
      "60101 : [14.5] [6.37]\n",
      "60976 : [28.5] [11.9]\n",
      "61434 : [3.87] [8.4]\n",
      "63159 : [3.11] [1.69]\n",
      "63371 : [17.8] [7.75]\n",
      "64645 : [14.9] [12.1]\n",
      "66838 : [1.37] [9.9]\n",
      "67009 : [2.93] [10.2]\n",
      "72159 : [8.07] [6.11]\n",
      "73452 : [14.6] [0.83]\n",
      "73506 : [2.59] [13]\n",
      "74659 : [6.19] [26.1]\n",
      "76269 : [27.8] [26.9]\n",
      "79581 : [26.7] [7.32]\n",
      "80210 : [35.3] [4.03]\n",
      "82804 : [22.1] [0.421]\n",
      "82918 : [11.8] [9.57]\n",
      "83344 : [1.85] [16.6]\n",
      "84761 : [11.6] [3.12]\n",
      "85697 : [5.84] [5.66]\n",
      "87143 : [36.4] [20.9]\n",
      "88478 : [7.55] [7.45]\n",
      "89512 : [1.71] [0.512]\n",
      "90711 : [3.09] [2.17]\n",
      "91697 : [1.4] [18]\n",
      "93127 : [11.9] [4.71]\n",
      "94037 : [16.4] [21.6]\n",
      "94334 : [1.73] [18.3]\n",
      "94522 : [36.6] [1.42]\n",
      "94651 : [0.648] [24]\n",
      "95584 : [3.39, 3.39, 24.9] [3.14, 21.7, 21.7]\n",
      "96180 : [8.71] [21.6]\n",
      "100922 : [97.1] [35.2]\n",
      "101606 : [2.45] [1.76]\n",
      "102053 : [27.7] [12.9]\n",
      "106427 : [2] [31.7]\n",
      "107949 : [31.7] [25.5]\n",
      "110096 : [18.1] [8.26]\n",
      "110600 : [3.1] [1.62]\n",
      "112525 : [0.868] [9.11]\n",
      "113345 : [11.1] [9.05]\n",
      "114464 : [91.2] [28.7]\n",
      "114879 : [12.6] [42.5]\n",
      "116095 : [0.986] [0.834]\n",
      "118152 : [15.7] [18.1]\n",
      "118561 : [22] [12.7]\n",
      "119053 : [16.3] [13.9]\n",
      "119612 : [1.37] [13]\n",
      "122564 : [16.2, 9.92] [8.01, 8.01]\n",
      "128038 : [9.33] [21.7]\n",
      "128471 : [9.63] [0.77]\n",
      "130221 : [26.7] [13]\n",
      "130344 : [9.37] [8.71]\n",
      "131589 : [13.8, 13.8] [8.77, 2.19]\n",
      "132578 : [13.1] [0.778]\n",
      "134013 : [3.14] [0.241]\n",
      "134565 : [21.7] [19.4]\n",
      "135134 : [10.8] [2.2]\n",
      "136285 : [14.8] [8.53]\n",
      "137527 : [14.4] [6.92]\n",
      "137530 : [10.2] [7.3]\n",
      "139100 : [11.7] [6.59]\n",
      "140174 : [3.14] [0.815]\n",
      "141875 : [11.2] [9.31]\n",
      "144299 : [13] [5.71]\n",
      "145175 : [73.8] [0.279]\n",
      "146657 : [12.1] [10.7]\n",
      "148699 : [16.5] [7.91]\n",
      "149768 : [1.78] [9.31]\n",
      "153433 : [3.09] [3.11]\n",
      "153875 : [18] [5.03]\n",
      "155714 : [11] [24.9]\n",
      "157673 : [28.8] [12.1]\n",
      "158664 : [1.68] [4.95]\n",
      "158945 : [3.12] [1.4]\n",
      "161251 : [1.03] [7.16]\n",
      "161850 : [35.6] [9]\n",
      "163201 : [19.3] [1.73]\n",
      "163502 : [16.2] [15]\n",
      "165325 : [33.1] [13.5]\n",
      "167815 : [18.7] [5.58]\n",
      "168699 : [14] [8.89]\n",
      "169836 : [42.3] [10.4]\n",
      "170820 : [56.9] [22]\n",
      "170835 : [49] [2.3]\n",
      "170863 : [2.8] [1.74]\n",
      "170992 : [17.3] [20.3]\n",
      "173451 : [20.9] [3]\n",
      "173666 : [2.14] [13.2]\n",
      "173780 : [18.7] [7.12]\n",
      "174041 : [2.31] [7.52]\n",
      "175121 : [15] [3.23]\n",
      "175500 : [8.08] [18.6]\n",
      "175858 : [1.5] [7.97]\n",
      "177713 : [29.5] [9.81]\n",
      "178252 : [57.1] [11.7]\n",
      "180561 : [42.2] [27]\n",
      "181295 : [18] [5.02]\n",
      "183029 : [88.5] [10.8]\n",
      "185247 : [25.2] [10]\n",
      "185312 : [22.6] [0.784]\n",
      "186049 : [19.8] [13.5]\n",
      "186897 : [46.1] [1.28]\n",
      "187595 : [18.1] [10.6]\n",
      "190474 : [17.7] [20.8]\n",
      "191140 : [3.1] [3.09]\n",
      "194197 : [62.7] [27.1]\n",
      "195980 : [3.12] [2.59]\n",
      "196191 : [6.27] [0.492]\n",
      "198211 : [13] [6.9]\n",
      "198536 : [53.6] [22.6]\n",
      "198751 : [14.5] [11.8]\n",
      "202880 : [2.63] [11.2]\n",
      "206386 : [2.22] [8.72]\n",
      "207445 : [19.5] [15.9]\n",
      "211769 : [107] [3.11]\n",
      "212703 : [21.3] [8.95]\n",
      "212977 : [0.719] [23.7]\n",
      "215434 : [3.08] [2.98]\n",
      "217253 : [9.2] [13.9]\n",
      "218999 : [22.2] [3.09]\n",
      "222317 : [2.33] [3.17]\n",
      "222911 : [116] [1.61]\n",
      "224616 : [1.32] [28.6]\n",
      "225440 : [91.1] [8.7]\n",
      "225667 : [15.6] [7.81]\n",
      "226950 : [1.37, 1.37, 25.3] [0.815, 4.67, 4.67]\n",
      "227706 : [10.1] [2.05]\n",
      "228307 : [24.3] [6.95]\n",
      "230508 : [25.3, 25.3, 2.55] [8.43, 15.7, 15.7]\n",
      "231986 : [53.8] [6.14]\n",
      "232215 : [31.5] [1.7]\n",
      "234520 : [2.26] [8.85]\n",
      "234549 : [20.3, 20.3] [8.86, 8.7]\n",
      "235896 : [10] [2.24]\n",
      "236371 : [5.79, 10.3] [16.8, 16.8]\n",
      "237681 : [17, 17] [3.05, 6.3]\n",
      "239140 : [45.8] [1.61]\n",
      "239292 : [16.7] [36.8]\n",
      "240173 : [89.5] [3.01]\n",
      "240478 : [74.9] [8.45]\n",
      "241431 : [18.6] [3.12]\n",
      "241684 : [1.04] [8.53]\n",
      "242557 : [19.3] [1.62]\n",
      "243034 : [81.5] [0.785]\n",
      "244678 : [9.93] [7.39]\n",
      "247734 : [13.9] [20.5]\n",
      "251928 : [3.01] [4.6]\n",
      "252221 : [4.1] [2.73]\n",
      "252496 : [2.04] [0.496]\n",
      "254101 : [14.7] [0.929]\n",
      "255357 : [22.1, 22.1] [34.8, 29.2]\n",
      "256050 : [3.14] [0.754]\n"
     ]
    }
   ],
   "source": [
    "i = 0\n",
    "for j, qquad in enumerate(fourmuon_c):\n",
    "    if len(qquad) == 0:\n",
    "        continue\n",
    "    print(j, ':', qquad.pair1.mass, qquad.pair2.mass)\n",
    "    i += 1\n",
    "    if i>200:\n",
    "        break"
   ]
  },
  {
   "cell_type": "code",
   "execution_count": 29,
   "id": "e8b7001b-95cf-4d5e-8e6a-59046458cb81",
   "metadata": {},
   "outputs": [
    {
     "name": "stdout",
     "output_type": "stream",
     "text": [
      "1919 : 2.7637265 23.300982\n",
      "2847 : 15.935995 6.1425953\n",
      "4349 : 18.853579 3.1254394\n",
      "4698 : 102.11299 5.6351604\n",
      "6126 : 2.3279676 9.196075\n",
      "6528 : 3.1055253 10.61169\n",
      "8683 : 1.3084247 7.833044\n",
      "9151 : 2.4824333 2.0158143\n",
      "9936 : 3.0991855 7.1049223\n",
      "11502 : 16.919518 1.3569145\n",
      "12688 : 5.46732 5.2098713\n",
      "13494 : 3.1341467 3.0732284\n",
      "16488 : 17.749794 13.763896\n",
      "16586 : 19.962112 10.2961445\n",
      "17331 : 3.100352 1.1889254\n",
      "17408 : 66.254776 1.7075183\n",
      "18051 : 1.5011389 1.220142\n",
      "18115 : 15.38485 16.541796\n",
      "19949 : 2.8306704 9.537453\n",
      "23194 : 82.24434 12.204126\n",
      "24563 : 13.544095 3.1148076\n",
      "26306 : 87.5514 2.6966653\n",
      "27613 : 1.6136926 13.684553\n",
      "28426 : 9.502197 5.6742525\n",
      "28618 : 99.95341 12.35397\n",
      "30842 : 2.3288066 2.743645\n",
      "35469 : 39.043915 6.898674\n",
      "36226 : 22.4384 8.698746\n",
      "37456 : 11.801856 10.175123\n",
      "37539 : 2.002196 18.327385\n",
      "38518 : 16.517954 4.417629\n"
     ]
    }
   ],
   "source": [
    "i = 0\n",
    "for j, qquad in enumerate(fourmuon_c):\n",
    "    if len(qquad) == 0:\n",
    "        continue\n",
    "    print(j, ':', qquad.pair1.mass[0], qquad.pair2.mass[0])\n",
    "    i += 1\n",
    "    if i>30:\n",
    "        break"
   ]
  },
  {
   "cell_type": "code",
   "execution_count": 30,
   "id": "dfbed7a9-69ff-4606-9ddc-93f098d0ecb3",
   "metadata": {},
   "outputs": [
    {
     "name": "stdout",
     "output_type": "stream",
     "text": [
      "1919 : [0.333] [0.333]\n",
      "2847 : [12.8] [12.8]\n",
      "4349 : [15.8] [15.8]\n",
      "4698 : [99] [99]\n",
      "6126 : [0.769] [0.769]\n",
      "6528 : [0.00861] [0.00861]\n",
      "8683 : [1.79] [1.79]\n",
      "9151 : [0.614] [0.614]\n",
      "9936 : [0.00227] [0.00227]\n",
      "11502 : [13.8] [13.8]\n",
      "12688 : [2.37] [2.37]\n",
      "13494 : [0.0372] [0.0372]\n",
      "16488 : [14.7] [14.7]\n",
      "16586 : [16.9] [16.9]\n",
      "17331 : [0.00344] [0.00344]\n",
      "17408 : [63.2] [63.2]\n",
      "18051 : [1.6] [1.6]\n",
      "18115 : [12.3] [12.3]\n",
      "19949 : [0.266] [0.266]\n",
      "23194 : [79.1, 79.1, 4.25] [79.1, 79.1, 4.25]\n",
      "24563 : [10.4] [10.4]\n",
      "26306 : [84.5] [84.5]\n",
      "27613 : [1.48] [1.48]\n",
      "28426 : [6.41] [6.41]\n",
      "28618 : [96.9, 96.9] [96.9, 96.9]\n",
      "30842 : [0.768] [0.768]\n",
      "35469 : [35.9] [35.9]\n",
      "36226 : [19.3] [19.3]\n",
      "37456 : [8.7, 8.7] [8.7, 8.7]\n",
      "37539 : [1.09] [1.09]\n",
      "38518 : [13.4] [13.4]\n"
     ]
    }
   ],
   "source": [
    "i = 0\n",
    "fourmuon_t1 = abs(fourmuon_c.pair1.mass - 3.096916)\n",
    "for j, qquad in enumerate(fourmuon_t1):\n",
    "    if len(qquad) == 0:\n",
    "        continue\n",
    "    print(j, ':', qquad, qquad)\n",
    "    i += 1\n",
    "    if i>30:\n",
    "        break"
   ]
  },
  {
   "cell_type": "code",
   "execution_count": 31,
   "id": "9a8e439f-6b4a-4cd3-b6be-c5db4fcbb2c7",
   "metadata": {},
   "outputs": [
    {
     "name": "stdout",
     "output_type": "stream",
     "text": [
      "1919 : [6.7] [6.7]\n",
      "2847 : [6.48] [6.48]\n",
      "4349 : [9.39] [9.39]\n",
      "4698 : [92.7] [92.7]\n",
      "6126 : [7.13] [7.13]\n",
      "6528 : [6.35] [6.35]\n",
      "8683 : [8.15] [8.15]\n",
      "9151 : [6.98] [6.98]\n",
      "9936 : [6.36] [6.36]\n",
      "11502 : [7.46] [7.46]\n",
      "12688 : [3.99] [3.99]\n",
      "13494 : [6.33] [6.33]\n",
      "16488 : [8.29] [8.29]\n",
      "16586 : [10.5] [10.5]\n",
      "17331 : [6.36] [6.36]\n",
      "17408 : [56.8] [56.8]\n",
      "18051 : [7.96] [7.96]\n",
      "18115 : [5.92] [5.92]\n",
      "19949 : [6.63] [6.63]\n",
      "23194 : [72.8, 72.8, 2.11] [72.8, 72.8, 2.11]\n",
      "24563 : [4.08] [4.08]\n",
      "26306 : [78.1] [78.1]\n",
      "27613 : [7.85] [7.85]\n",
      "28426 : [0.0419] [0.0419]\n",
      "28618 : [90.5, 90.5] [90.5, 90.5]\n",
      "30842 : [7.13] [7.13]\n",
      "35469 : [29.6] [29.6]\n",
      "36226 : [13] [13]\n",
      "37456 : [2.34, 2.34] [2.34, 2.34]\n",
      "37539 : [7.46] [7.46]\n",
      "38518 : [7.06] [7.06]\n"
     ]
    }
   ],
   "source": [
    "i = 0\n",
    "fourmuon_t1 = abs(fourmuon_c.pair1.mass - 9.46030)\n",
    "for j, qquad in enumerate(fourmuon_t1):\n",
    "    if len(qquad) == 0:\n",
    "        continue\n",
    "    print(j, ':', qquad, qquad)\n",
    "    i += 1\n",
    "    if i>30:\n",
    "        break"
   ]
  },
  {
   "cell_type": "code",
   "execution_count": null,
   "id": "4c7ddd79-36f1-4fb0-8359-1b6d9e37999c",
   "metadata": {},
   "outputs": [],
   "source": [
    "i = 0\n",
    "fourmuon_t1 = ak.min(ak.Array([abs(fourmuon_c.pair1.mass - 3.096916), abs(fourmuon_c.pair1.mass - 9.46030)]), axis=0)\n",
    "for j, qquad in enumerate(fourmuon_t1):\n",
    "    if len(qquad) == 0:\n",
    "        continue\n",
    "    print(j, ':', qquad, qquad)\n",
    "    i += 1\n",
    "    if i>30:\n",
    "        break"
   ]
  },
  {
   "cell_type": "code",
   "execution_count": null,
   "id": "d13a7fc0-6236-460d-83ab-ef19a1250502",
   "metadata": {},
   "outputs": [],
   "source": [
    "jpsimass = 3.096916\n",
    "upsilonmass = 9.46030\n",
    "bestmass = ak.singletons(\n",
    "               ak.argmin(\n",
    "                   ak.min(\n",
    "                       ak.Array([abs(fourmuon_c.pair1.mass - jpsimass), abs(fourmuon_c.pair1.mass - upsilonmass)]), axis=0\n",
    "                   ) +\n",
    "                   ak.min(\n",
    "                       ak.Array([abs(fourmuon_c.pair2.mass - jpsimass), abs(fourmuon_c.pair2.mass - upsilonmass)]), axis=0\n",
    "                   ),\n",
    "                   axis=1\n",
    "               )\n",
    ")"
   ]
  },
  {
   "cell_type": "code",
   "execution_count": null,
   "id": "38764912-e715-4a49-a324-3be859a2b7e9",
   "metadata": {},
   "outputs": [],
   "source": []
  }
 ],
 "metadata": {
  "kernelspec": {
   "display_name": "Python 3 (ipykernel)",
   "language": "python",
   "name": "python3"
  },
  "language_info": {
   "codemirror_mode": {
    "name": "ipython",
    "version": 3
   },
   "file_extension": ".py",
   "mimetype": "text/x-python",
   "name": "python",
   "nbconvert_exporter": "python",
   "pygments_lexer": "ipython3",
   "version": "3.10.5"
  }
 },
 "nbformat": 4,
 "nbformat_minor": 5
}
