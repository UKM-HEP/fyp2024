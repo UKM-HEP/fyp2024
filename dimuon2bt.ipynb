{
 "cells": [
  {
   "cell_type": "code",
   "execution_count": 1,
   "id": "d4129869-bc12-4f75-a4f0-c33e55b0e08d",
   "metadata": {},
   "outputs": [
    {
     "name": "stderr",
     "output_type": "stream",
     "text": [
      "/usr/local/venv/lib/python3.10/site-packages/coffea/nanoevents/schemas/fcc.py:5: FutureWarning: In version 2025.1.0 (target date: 2024-12-31 11:59:59-06:00), this will be an error.\n",
      "To raise these warnings as errors (and get stack traces to find out where they're called), run\n",
      "    import warnings\n",
      "    warnings.filterwarnings(\"error\", module=\"coffea.*\")\n",
      "after the first `import coffea` or use `@pytest.mark.filterwarnings(\"error:::coffea.*\")` in pytest.\n",
      "Issue: coffea.nanoevents.methods.vector will be removed and replaced with scikit-hep vector. Nanoevents schemas internal to coffea will be migrated. Otherwise please consider using that package!.\n",
      "  from coffea.nanoevents.methods import vector\n",
      "/usr/local/venv/lib/python3.10/site-packages/coffea/nanoevents/schemas/nanoaod.py:264: RuntimeWarning: Missing cross-reference index for LowPtElectron_electronIdx => Electron\n",
      "  warnings.warn(\n",
      "/usr/local/venv/lib/python3.10/site-packages/coffea/nanoevents/schemas/nanoaod.py:264: RuntimeWarning: Missing cross-reference index for LowPtElectron_photonIdx => Photon\n",
      "  warnings.warn(\n"
     ]
    },
    {
     "name": "stdout",
     "output_type": "stream",
     "text": [
      "Number of events =  2147195\n"
     ]
    }
   ],
   "source": [
    "import awkward as ak\n",
    "from coffea.nanoevents import NanoEventsFactory, NanoAODSchema\n",
    "\n",
    "#fname = \"root://eospublic.cern.ch//eos/opendata/cms/Run2016H/DoubleMuon/NANOAOD/UL2016_MiniAODv2_NanoAODv9-v1/2510000/127C2975-1B1C-A046-AABF-62B77E757A86.root\"\n",
    "fname = \"file:/opendata_cms/DoubleMuon/Run2016H-UL2016_MiniAODv2_NanoAODv9-v1/NANOAOD/127C2975-1B1C-A046-AABF-62B77E757A86.root\"\n",
    "#fname = \"file:///code/data/EEB2FE3F-7CF3-BF4A-9F70-3F89FACE698E.root\"\n",
    "events = NanoEventsFactory.from_root(\n",
    "    {fname: \"Events\"},\n",
    "    schemaclass=NanoAODSchema,\n",
    "    metadata={\"dataset\": \"DoubleMuon\"},\n",
    ").events()\n",
    "\n",
    "print(\"Number of events = \", ak.num(events.Muon, axis=0).compute())"
   ]
  },
  {
   "cell_type": "code",
   "execution_count": 2,
   "id": "5d14bff8-5971-4865-8b96-84ad73872a61",
   "metadata": {},
   "outputs": [
    {
     "name": "stdout",
     "output_type": "stream",
     "text": [
      "Number of muons =  4806013\n"
     ]
    }
   ],
   "source": [
    "print(\"Number of muons = \", ak.count(events.Muon.mass, axis=None).compute())"
   ]
  },
  {
   "cell_type": "code",
   "execution_count": 3,
   "id": "54b21cbc-ac2c-4913-a4ae-ba1e5839a621",
   "metadata": {},
   "outputs": [
    {
     "name": "stdout",
     "output_type": "stream",
     "text": [
      "Number of selected muons after isGlobal==1:  4110800\n"
     ]
    }
   ],
   "source": [
    "selected_muons = events.Muon[(events.Muon.isGlobal == 1)]\n",
    "print(\"Number of selected muons after isGlobal==1: \", ak.count(selected_muons.mass, axis=None).compute())"
   ]
  },
  {
   "cell_type": "code",
   "execution_count": 4,
   "id": "1f3e24ce-4359-4f49-a564-c83aff818980",
   "metadata": {},
   "outputs": [
    {
     "name": "stdout",
     "output_type": "stream",
     "text": [
      "Number of selected muons after nStations>0:  3936437\n"
     ]
    }
   ],
   "source": [
    "selected_muons = selected_muons[(selected_muons.nStations > 0)]\n",
    "print(\"Number of selected muons after nStations>0: \", ak.count(selected_muons.mass, axis=None).compute())"
   ]
  },
  {
   "cell_type": "code",
   "execution_count": 5,
   "id": "b69173dc-99be-4559-91c5-9276337d6f11",
   "metadata": {},
   "outputs": [
    {
     "name": "stdout",
     "output_type": "stream",
     "text": [
      "Number of selected muons after nTrackerLayers>5:  3908889\n"
     ]
    }
   ],
   "source": [
    "selected_muons = selected_muons[(selected_muons.nTrackerLayers > 5)]\n",
    "print(\"Number of selected muons after nTrackerLayers>5: \", ak.count(selected_muons.mass, axis=None).compute())"
   ]
  },
  {
   "cell_type": "code",
   "execution_count": 6,
   "id": "bfa44cab-782f-4991-8dde-8d73f285bba5",
   "metadata": {},
   "outputs": [
    {
     "name": "stdout",
     "output_type": "stream",
     "text": [
      "Number of selected muons after PV impact param sel:  3892547\n"
     ]
    }
   ],
   "source": [
    "selected_muons = selected_muons[(selected_muons.dxy < 0.3) & (selected_muons.dz < 20.0)]\n",
    "print(\"Number of selected muons after PV impact param sel: \", ak.count(selected_muons.mass, axis=None).compute())       "
   ]
  },
  {
   "cell_type": "code",
   "execution_count": 7,
   "id": "9aead1b7-532c-4120-bcf1-e8ef51f05656",
   "metadata": {},
   "outputs": [
    {
     "name": "stdout",
     "output_type": "stream",
     "text": [
      "Number of selected muons after pt,eta sel:  3883500\n"
     ]
    }
   ],
   "source": [
    "selected_muons = selected_muons[(selected_muons.pt > 3.0) & (abs(selected_muons.eta) < 2.4)]\n",
    "print(\"Number of selected muons after pt,eta sel: \", ak.count(selected_muons.mass, axis=None).compute())"
   ]
  },
  {
   "cell_type": "code",
   "execution_count": 8,
   "id": "49d27576-8b67-49ef-87af-e95cd440b94f",
   "metadata": {},
   "outputs": [
    {
     "name": "stdout",
     "output_type": "stream",
     "text": [
      "Number of selected muons after ptcone30 isolation:  2681124\n"
     ]
    }
   ],
   "source": [
    "selected_muons = selected_muons[(selected_muons.pfRelIso03_chg < 0.5)]\n",
    "print(\"Number of selected muons after ptcone30 isolation: \", ak.count(selected_muons.mass, axis=None).compute())"
   ]
  },
  {
   "cell_type": "code",
   "execution_count": 9,
   "id": "67bff0ec-4ba8-4242-a390-84c9f7ee2c9a",
   "metadata": {},
   "outputs": [
    {
     "name": "stdout",
     "output_type": "stream",
     "text": [
      "Number of selected events with num(muons)>0:  1604214\n",
      "Corresponding number of selected muons:  2681124\n"
     ]
    }
   ],
   "source": [
    "selectede_muons = selected_muons[ak.num(selected_muons) > 0]\n",
    "print(\"Number of selected events with num(muons)>0: \", ak.num(selectede_muons.mass, axis=0).compute())\n",
    "print(\"Corresponding number of selected muons: \", ak.count(selectede_muons.mass, axis=None).compute())"
   ]
  },
  {
   "cell_type": "code",
   "execution_count": 10,
   "id": "a9e45eb0-ea24-48be-a39a-fadd65b232e7",
   "metadata": {},
   "outputs": [],
   "source": [
    "#selected_muons_c = selected_muons.compute()\n",
    "pass"
   ]
  },
  {
   "cell_type": "code",
   "execution_count": 11,
   "id": "093d30a3-ac24-498d-890f-a05942a0b0e2",
   "metadata": {},
   "outputs": [],
   "source": [
    "fourmuon = ak.combinations(selected_muons, 4, fields=['lep1','lep2','lep3','lep4'])"
   ]
  },
  {
   "cell_type": "code",
   "execution_count": 12,
   "id": "44d20f8a-1eac-4f15-9aed-20df833dc04c",
   "metadata": {},
   "outputs": [
    {
     "name": "stdout",
     "output_type": "stream",
     "text": [
      "<class 'dask_awkward.lib.core.Array'>\n"
     ]
    }
   ],
   "source": [
    "print(type(fourmuon))"
   ]
  },
  {
   "cell_type": "code",
   "execution_count": 13,
   "id": "ed09c3fc-bbf3-4cd5-bfdc-b2ba7044e50d",
   "metadata": {},
   "outputs": [
    {
     "name": "stdout",
     "output_type": "stream",
     "text": [
      "Number of 4-muon combination:  6170\n"
     ]
    }
   ],
   "source": [
    "print(\"Number of 4-muon combination: \", ak.count(fourmuon.lep1.mass, axis=None).compute())"
   ]
  },
  {
   "cell_type": "code",
   "execution_count": 14,
   "id": "59e1092c-7c3c-4189-baf4-0f985a069248",
   "metadata": {},
   "outputs": [],
   "source": [
    "fourmuon_c = fourmuon.compute()"
   ]
  },
  {
   "cell_type": "code",
   "execution_count": 15,
   "id": "a5accf2e-4c4f-4434-8dca-ae823619333f",
   "metadata": {},
   "outputs": [
    {
     "name": "stdout",
     "output_type": "stream",
     "text": [
      "Number of 4-muon (computed) combination:  6170\n"
     ]
    }
   ],
   "source": [
    "print(\"Number of 4-muon (computed) combination: \", ak.count(fourmuon_c.lep1.mass, axis=None))"
   ]
  },
  {
   "cell_type": "code",
   "execution_count": 16,
   "id": "beed5cd1-f376-4cfe-9bf3-b4b63e2119a7",
   "metadata": {},
   "outputs": [
    {
     "name": "stdout",
     "output_type": "stream",
     "text": [
      "Number of 4-muon (computed) combination:  6170\n"
     ]
    }
   ],
   "source": [
    "# should be the same as above\n",
    "print(\"Number of 4-muon (computed) combination: \", ak.count(fourmuon_c.lep4.pt, axis=None))"
   ]
  },
  {
   "cell_type": "code",
   "execution_count": 17,
   "id": "6668c44c-bb82-43b5-98fe-00fd8cb3161b",
   "metadata": {},
   "outputs": [
    {
     "name": "stdout",
     "output_type": "stream",
     "text": [
      "[[0, 0, 0, 0, -2], [-2, -2, -2, -2, -2], ..., [0, 0, ..., 0], [0, 0, 0, 0, -2]]\n"
     ]
    }
   ],
   "source": [
    "print(fourmuon_c.lep1.charge[ak.num(fourmuon_c)>1] + fourmuon_c.lep2.charge[ak.num(fourmuon_c)>1])"
   ]
  },
  {
   "cell_type": "code",
   "execution_count": 18,
   "id": "53cf69ff-b13b-47a5-8238-673a821f118c",
   "metadata": {},
   "outputs": [],
   "source": [
    "#fourmuon_c = fourmuon_c[((fourmuon_c.lep1.charge + fourmuon_c.lep2.charge == 0) and\n",
    "#                         (fourmuon_c.lep3.charge + fourmuon_c.lep4.charge == 0))]\n",
    "#fourmuon_c = fourmuon_c[(fourmuon_c.lep1.charge + fourmuon_c.lep2.charge == 0)]\n",
    "fourmuon_c = fourmuon_c[(fourmuon_c.lep1.charge + fourmuon_c.lep2.charge == 0) &\n",
    "                        (fourmuon_c.lep3.charge + fourmuon_c.lep4.charge == 0)]"
   ]
  },
  {
   "cell_type": "code",
   "execution_count": 19,
   "id": "bd6874f9-779d-442e-8b6b-81aeca740c2b",
   "metadata": {},
   "outputs": [],
   "source": [
    "xxx = fourmuon_c.lep1.charge + fourmuon_c.lep2.charge == 0"
   ]
  },
  {
   "cell_type": "code",
   "execution_count": 20,
   "id": "a1c8c2d7-8953-4f47-b6c7-e32250218090",
   "metadata": {},
   "outputs": [
    {
     "name": "stdout",
     "output_type": "stream",
     "text": [
      "1570 : [ True True ]\n",
      "2436 : [ True True ]\n",
      "2938 : [ True True ]\n",
      "3467 : [ True True ]\n",
      "4601 : [ True True ]\n",
      "7634 : [ True True True True True True ]\n",
      "8682 : [ True True ]\n",
      "13819 : [ True True True True ]\n",
      "14605 : [ True True ]\n",
      "19403 : [ True True ]\n",
      "22850 : [ True True ]\n",
      "25327 : [ True True ]\n",
      "27318 : [ True True ]\n",
      "31044 : [ True True ]\n",
      "31450 : [ True True ]\n",
      "32974 : [ True True ]\n",
      "34121 : [ True True ]\n",
      "34153 : [ True True ]\n",
      "34888 : [ True True ]\n",
      "38340 : [ True True ]\n",
      "50116 : [ True True ]\n",
      "50385 : [ True True ]\n",
      "50945 : [ True True ]\n",
      "52093 : [ True True ]\n",
      "53013 : [ True True ]\n",
      "55074 : [ True True ]\n",
      "55500 : [ True True True True True True ]\n",
      "55809 : [ True True ]\n",
      "56043 : [ True True ]\n",
      "56242 : [ True True ]\n",
      "56558 : [ True True ]\n",
      "56691 : [ True True ]\n",
      "56920 : [ True True ]\n",
      "57181 : [ True True ]\n",
      "57259 : [ True True ]\n",
      "60537 : [ True True ]\n",
      "61028 : [ True True ]\n",
      "61077 : [ True True ]\n",
      "62084 : [ True True ]\n",
      "62366 : [ True True ]\n",
      "62452 : [ True True ]\n",
      "63684 : [ True True ]\n",
      "63915 : [ True True ]\n",
      "65921 : [ True True ]\n",
      "67408 : [ True True ]\n",
      "67456 : [ True True ]\n",
      "67751 : [ True True ]\n",
      "67976 : [ True True ]\n",
      "68506 : [ True True ]\n",
      "69595 : [ True True ]\n",
      "72516 : [ True True ]\n",
      "73240 : [ True True ]\n",
      "73370 : [ True True ]\n",
      "73920 : [ True True ]\n",
      "74185 : [ True True ]\n",
      "74585 : [ True True ]\n",
      "75005 : [ True True ]\n",
      "75479 : [ True True ]\n",
      "76640 : [ True True ]\n",
      "77931 : [ True True ]\n",
      "85191 : [ True True ]\n",
      "88463 : [ True True ]\n",
      "89758 : [ True True True True True True ]\n",
      "91631 : [ True True ]\n",
      "91961 : [ True True ]\n",
      "93526 : [ True True ]\n",
      "94858 : [ True True ]\n",
      "96924 : [ True True ]\n",
      "98807 : [ True True ]\n",
      "99273 : [ True True ]\n",
      "99829 : [ True True ]\n",
      "100868 : [ True True ]\n",
      "102378 : [ True True ]\n",
      "102921 : [ True True ]\n",
      "103141 : [ True True ]\n",
      "105324 : [ True True ]\n",
      "106746 : [ True True ]\n",
      "108163 : [ True True ]\n",
      "108260 : [ True True ]\n",
      "111038 : [ True True ]\n",
      "111065 : [ True True ]\n",
      "112145 : [ True True ]\n",
      "112252 : [ True True ]\n",
      "112638 : [ True True ]\n",
      "112889 : [ True True ]\n",
      "117501 : [ True True ]\n",
      "122551 : [ True True True True True True True True True True True True True True True True True True True True True True True True ]\n",
      "124036 : [ True True ]\n",
      "124919 : [ True True True True ]\n",
      "127888 : [ True True ]\n",
      "130857 : [ True True ]\n",
      "131578 : [ True True ]\n",
      "132074 : [ True True ]\n",
      "134662 : [ True True ]\n",
      "134674 : [ True True ]\n",
      "139332 : [ True True ]\n",
      "139972 : [ True True ]\n",
      "141199 : [ True True ]\n",
      "142327 : [ True True True True ]\n",
      "144362 : [ True True ]\n",
      "144835 : [ True True ]\n"
     ]
    }
   ],
   "source": [
    "i = 0\n",
    "for j, qquad in enumerate(fourmuon_c):\n",
    "    if len(qquad) == 0:\n",
    "        continue\n",
    "    print(j, ':', '[', end=' ')\n",
    "    for quad in qquad:\n",
    "        print(quad.lep1.charge+quad.lep2.charge==0, quad.lep3.charge+quad.lep4.charge==0, end=' ')\n",
    "    print(']')\n",
    "    i = i+1\n",
    "    if i>100:\n",
    "        break"
   ]
  },
  {
   "cell_type": "code",
   "execution_count": 21,
   "id": "13677ff4-fc62-4d88-ae64-60cc03064ef9",
   "metadata": {},
   "outputs": [],
   "source": [
    "#countset = set()\n",
    "#for j, qquad in enumerate(fourmuon_c):\n",
    "#    countset.add(len(qquad))\n",
    "#print(countset)"
   ]
  },
  {
   "cell_type": "code",
   "execution_count": 22,
   "id": "3872690a-55d4-4640-a1d9-1d18cec9a3f8",
   "metadata": {},
   "outputs": [],
   "source": [
    "#counthist = {}\n",
    "#for qquad in fourmuon_c:\n",
    "#    j = len(qquad)\n",
    "#    if j in counthist:\n",
    "#        counthist[j] += 1\n",
    "#    else:\n",
    "#        counthist[j] = 1\n",
    "#print(counthist)"
   ]
  },
  {
   "cell_type": "code",
   "execution_count": 23,
   "id": "f4abb4d3-403e-4636-9341-c99209cc887d",
   "metadata": {},
   "outputs": [],
   "source": [
    "#i = 0\n",
    "#for j, qquad in enumerate(fourmuon_c):\n",
    "#    if len(qquad) == 0:\n",
    "#        continue\n",
    "#    print(j, ':', '[', end=' ')\n",
    "#    for quad in qquad:\n",
    "#        print(type(quad), end=' ')\n",
    "#        print(type(quad.lep1), end=' ')\n",
    "#        print(type(quad.lep1.pt), end=' ')\n",
    "#        print(quad.lep1.pt, quad.lep2.pt, quad.lep3.pt, quad.lep4.pt, end=' ')\n",
    "#    print(']')\n",
    "#    i = i+1\n",
    "#    if i>100:\n",
    "#        break"
   ]
  },
  {
   "cell_type": "code",
   "execution_count": 24,
   "id": "83f9348d-f62e-49ad-bdc2-aff9691b4b43",
   "metadata": {},
   "outputs": [
    {
     "name": "stdout",
     "output_type": "stream",
     "text": [
      "[]\n"
     ]
    }
   ],
   "source": [
    "print(fourmuon_c[1919].lep1.pt)"
   ]
  },
  {
   "cell_type": "code",
   "execution_count": 25,
   "id": "44b77f21-69ef-40e6-acb5-f3a2bce55f6d",
   "metadata": {},
   "outputs": [
    {
     "name": "stdout",
     "output_type": "stream",
     "text": [
      "<class 'awkward.highlevel.Array'>\n"
     ]
    }
   ],
   "source": [
    "print(type(fourmuon_c[1919].lep1.pt))"
   ]
  },
  {
   "cell_type": "code",
   "execution_count": 26,
   "id": "75accddf-59ab-495c-8e9d-255079581801",
   "metadata": {},
   "outputs": [
    {
     "name": "stdout",
     "output_type": "stream",
     "text": [
      "1570 : [4.44] [4.41] [4.11] [3.79]\n",
      "2436 : [15.4] [13.3] [7.14] [3.46]\n",
      "2938 : [7.43] [5.83] [3.74] [3.41]\n",
      "3467 : [4.01] [3.75] [3.33] [3.11]\n",
      "4601 : [22.8] [13] [5.89] [3.47]\n",
      "7634 : [15.7, 15.7, 15.7] [14.1, 14.1, 9.49] [9.49, 8.86, 8.86] [8.86, 5.8, 5.8]\n",
      "8682 : [20.1] [9.27] [6.66] [6.03]\n",
      "13819 : [21.4, 21.4] [8.09, 8.09] [6.74, 6.74] [3.8, 3.04]\n",
      "14605 : [4.43] [4.22] [4.19] [4.19]\n",
      "19403 : [26.3] [11.9] [9.06] [3.88]\n",
      "22850 : [5.22] [4.71] [3.21] [3.01]\n",
      "25327 : [9] [6.25] [5.42] [3.36]\n",
      "27318 : [18.4] [9.03] [4.53] [3.71]\n",
      "31044 : [20.3] [6.2] [3.32] [3.27]\n",
      "31450 : [11.8] [6.63] [5.16] [3.87]\n",
      "32974 : [58.2] [24.3] [12] [4.13]\n",
      "34121 : [17.2] [14.4] [13.1] [5.54]\n",
      "34153 : [8.34] [7.76] [6.35] [3.73]\n",
      "34888 : [11.6] [8.45] [5.13] [3.73]\n",
      "38340 : [9.3] [4.92] [4.07] [3.09]\n",
      "50116 : [11.5] [6.55] [6.55] [5.67]\n",
      "50385 : [20.3] [18] [8.33] [3.55]\n",
      "50945 : [8.38] [4.3] [4.28] [3.36]\n",
      "52093 : [13] [11.3] [7.01] [3.69]\n",
      "53013 : [5.77] [4.62] [4.35] [3.54]\n",
      "55074 : [7.16] [6.6] [5.06] [4.92]\n",
      "55500 : [13.1, 13.1, 13.1] [8.95, 8.95, 6.56] [6.56, 5.53, 5.53] [5.53, 3.02, 3.02]\n",
      "55809 : [9.79] [6.32] [4.88] [3.21]\n",
      "56043 : [5.84] [3.65] [3.5] [3.47]\n",
      "56242 : [17.8] [11] [5.27] [4.64]\n",
      "56558 : [8.31] [8.26] [7.62] [3.51]\n",
      "56691 : [5.56] [5.14] [3.19] [3.16]\n",
      "56920 : [23.1] [8.17] [7.33] [3.56]\n",
      "57181 : [8.27] [6.19] [5.13] [3.99]\n",
      "57259 : [42.5] [41.9] [3.89] [3.38]\n",
      "60537 : [9.94] [5.46] [4.72] [3.68]\n",
      "61028 : [15.4] [15.4] [3.98] [3.41]\n",
      "61077 : [13.2] [10.2] [4.54] [3.98]\n",
      "62084 : [9.22] [4.16] [3.98] [3.45]\n",
      "62366 : [6.78] [6.12] [4.11] [3.67]\n",
      "62452 : [21.4] [5.87] [4.77] [3.28]\n",
      "63684 : [41] [29.1] [3.68] [3.49]\n",
      "63915 : [19.5] [14.1] [10.2] [6.85]\n",
      "65921 : [22.5] [5.96] [4.03] [3.49]\n",
      "67408 : [11.3] [6.16] [4.82] [3.09]\n",
      "67456 : [16.9] [6.43] [4.8] [3.38]\n",
      "67751 : [9.89] [6.86] [4.06] [3.55]\n",
      "67976 : [15.9] [11.3] [5.46] [3.91]\n",
      "68506 : [24.4] [8.34] [5] [3.07]\n",
      "69595 : [7.11] [6.78] [4.92] [4.7]\n",
      "72516 : [55.7] [33.9] [4.61] [3.03]\n",
      "73240 : [12.5] [6.75] [6.26] [3.07]\n",
      "73370 : [8.98] [7.75] [6.72] [6.17]\n",
      "73920 : [7.51] [6.24] [3.11] [3.04]\n",
      "74185 : [86.5] [47.6] [45] [21.5]\n",
      "74585 : [18.6] [9.33] [4.26] [3.42]\n",
      "75005 : [6.92] [5.88] [4.93] [3.03]\n",
      "75479 : [21.5] [6.42] [6.36] [5.86]\n",
      "76640 : [12.6] [5.82] [4.78] [3.65]\n",
      "77931 : [17.7] [5] [3.73] [3.11]\n",
      "85191 : [12.9] [10.8] [9.59] [4.21]\n",
      "88463 : [12.6] [5.86] [5] [3.12]\n",
      "89758 : [18.9, 18.9, 12.1] [12.1, 12.1, 4.45] [4.45, 4.06, 4.06] [4.06, 3.36, 3.36]\n",
      "91631 : [7.74] [5.57] [4.02] [3.16]\n",
      "91961 : [43.7] [34.4] [3.71] [3.19]\n",
      "93526 : [11.6] [9.05] [4.64] [4.39]\n",
      "94858 : [23.9] [16.8] [6.73] [4.97]\n",
      "96924 : [39.2] [20.3] [3.76] [3.09]\n",
      "98807 : [5.25] [4.84] [4.12] [3.73]\n",
      "99273 : [15.8] [5.3] [4.44] [3.69]\n",
      "99829 : [12.7] [11.4] [4.72] [3.17]\n",
      "100868 : [18.9] [13.3] [8.47] [7.5]\n",
      "102378 : [7.77] [3.53] [3.28] [3.11]\n",
      "102921 : [9.04] [5.91] [5.16] [4.05]\n",
      "103141 : [6.11] [3.86] [3.44] [3.39]\n",
      "105324 : [14] [6.92] [5.42] [3.64]\n",
      "106746 : [11.7] [9.94] [8.1] [6.08]\n",
      "108163 : [8.33] [4.35] [4.01] [3.6]\n",
      "108260 : [6.77] [4.74] [3.92] [3.76]\n",
      "111038 : [7.9] [6.09] [4.06] [3.8]\n",
      "111065 : [6.01] [5.58] [5.08] [4.28]\n",
      "112145 : [8.38] [4.37] [4.19] [3.87]\n",
      "112252 : [6.97] [4.84] [4.13] [3.36]\n",
      "112638 : [10.2] [4.64] [3.4] [3.22]\n",
      "112889 : [10.9] [9.43] [5.79] [3.96]\n",
      "117501 : [22.4] [15.5] [6.28] [6.05]\n",
      "122551 : [8.89, 8.89, 8.89, 8.89, 8.89, 8.89, 5.52, 5.52, 5.52, 5.52, 5.52, 5.52] [4.93, 4.93, 4.93, 4.16, 4.16, 3.99, 4.93, 4.93, 4.93, 4.16, 4.16, 3.99] [4.16, 3.99, 3.93, 3.99, 3.93, 3.93, 4.16, 3.99, 3.93, 3.99, 3.93, 3.93] [3.93, 3.93, 3.67, 3.93, 3.67, 3.67, 3.93, 3.93, 3.67, 3.93, 3.67, 3.67]\n",
      "124036 : [8.14] [3.54] [3.49] [3.25]\n",
      "124919 : [17.2, 11.5] [6.99, 6.99] [6.91, 6.91] [3.95, 3.95]\n",
      "127888 : [16.3] [15.8] [7.02] [3.84]\n",
      "130857 : [5.95] [5.26] [4.59] [4.09]\n",
      "131578 : [24.7] [10.9] [4.05] [4.03]\n",
      "132074 : [15.3] [6.25] [4.45] [3.67]\n",
      "134662 : [9.93] [6.2] [4.18] [3.6]\n",
      "134674 : [5.39] [5.3] [3.68] [3.46]\n",
      "139332 : [18.8] [11.4] [3.46] [3.15]\n",
      "139972 : [6.1] [4.84] [4.34] [3.28]\n",
      "141199 : [38.4] [33.5] [5.82] [3.77]\n",
      "142327 : [8.67, 8.67] [6.85, 6.85] [5.15, 5.15] [3.53, 3.3]\n",
      "144362 : [9.43] [6.96] [5.63] [4.59]\n",
      "144835 : [12.1] [7.9] [5.78] [3.22]\n"
     ]
    }
   ],
   "source": [
    "i = 0\n",
    "for j, qquad in enumerate(fourmuon_c):\n",
    "    if len(qquad) == 0:\n",
    "        continue\n",
    "    print(j, ':', qquad.lep1.pt, qquad.lep2.pt, qquad.lep3.pt, qquad.lep4.pt)\n",
    "    i += 1\n",
    "    if i>100:\n",
    "        break"
   ]
  },
  {
   "cell_type": "code",
   "execution_count": 27,
   "id": "49506343-26be-4025-81f3-144fec8253cd",
   "metadata": {},
   "outputs": [],
   "source": [
    "fourmuon_c[\"pair1\"] = fourmuon_c.lep1 + fourmuon_c.lep2\n",
    "fourmuon_c[\"pair2\"] = fourmuon_c.lep3 + fourmuon_c.lep4"
   ]
  },
  {
   "cell_type": "code",
   "execution_count": 28,
   "id": "321c8a37-f278-417e-8871-7fe0732f61c7",
   "metadata": {},
   "outputs": [
    {
     "name": "stdout",
     "output_type": "stream",
     "text": [
      "1570 : [3.86] [7.6]\n",
      "2436 : [3.11] [2.12]\n",
      "2938 : [2.39] [7.77]\n",
      "3467 : [16.4] [23.4]\n",
      "4601 : [2.98] [15.5]\n",
      "7634 : [3.06, 3.06, 19.7] [2.7, 14.4, 14.4]\n",
      "8682 : [28] [1.95]\n",
      "13819 : [26.4, 26.4] [4.76, 3.48]\n",
      "14605 : [9.23] [7.3]\n",
      "19403 : [48] [2.16]\n",
      "22850 : [5.31] [4.71]\n",
      "25327 : [16.4] [16.3]\n",
      "27318 : [2.2] [2.12]\n",
      "31044 : [18.9] [6.48]\n",
      "31450 : [2.81] [38]\n",
      "32974 : [90.9] [1.45]\n",
      "34121 : [30.6] [15]\n",
      "34153 : [4.69] [13.5]\n",
      "34888 : [3.73] [10.6]\n",
      "38340 : [14.6] [15.7]\n",
      "50116 : [17.3] [12.2]\n",
      "50385 : [41.4] [7.72]\n",
      "50945 : [7.4] [6.74]\n",
      "52093 : [3.06] [22.8]\n",
      "53013 : [7.18] [8.44]\n",
      "55074 : [14.1] [9.64]\n",
      "55500 : [42.3, 42.3, 12] [9.2, 1.62, 1.62]\n",
      "55809 : [8.8] [28.2]\n",
      "56043 : [3.11] [15.8]\n",
      "56242 : [24.3] [9.51]\n",
      "56558 : [50.6] [1.09]\n",
      "56691 : [2.69] [17.6]\n",
      "56920 : [76.6] [28.6]\n",
      "57181 : [3.8] [13]\n",
      "57259 : [90.1] [14.8]\n",
      "60537 : [13.8] [14.6]\n",
      "61028 : [23.1] [0.947]\n",
      "61077 : [24.1] [4.17]\n",
      "62084 : [44.6] [21.4]\n",
      "62366 : [6.02] [8.43]\n",
      "62452 : [38.6] [28]\n",
      "63684 : [65.8] [7.65]\n",
      "63915 : [33.4] [73.6]\n",
      "65921 : [47.4] [7.12]\n",
      "67408 : [18.4] [2.56]\n",
      "67456 : [21.9] [7.29]\n",
      "67751 : [3.14] [0.748]\n",
      "67976 : [5.6] [11.4]\n",
      "68506 : [25.9] [8.18]\n",
      "69595 : [19.1] [4.43]\n",
      "72516 : [91.8] [26]\n",
      "73240 : [3.08] [8.42]\n",
      "73370 : [14.4] [30.1]\n",
      "73920 : [2.92] [16.6]\n",
      "74185 : [44.1] [9.21]\n",
      "74585 : [11.9] [14.3]\n",
      "75005 : [11.8] [3.78]\n",
      "75479 : [24.4] [11.7]\n",
      "76640 : [3.24] [3.52]\n",
      "77931 : [16.6] [5.7]\n",
      "85191 : [25.5] [8.11]\n",
      "88463 : [1.23] [6.47]\n",
      "89758 : [32.4, 32.4, 1.5] [6.79, 2.62, 2.62]\n",
      "91631 : [14.7] [4.1]\n",
      "91961 : [94] [8.1]\n",
      "93526 : [22.2] [10.9]\n",
      "94858 : [9.7] [10.7]\n",
      "96924 : [58] [10.5]\n",
      "98807 : [10.5] [7.4]\n",
      "99273 : [25.8] [5.83]\n",
      "99829 : [26.5] [6.72]\n",
      "100868 : [4.2] [8.82]\n",
      "102378 : [0.9] [1.12]\n",
      "102921 : [13] [21.2]\n",
      "103141 : [23.5] [22.4]\n",
      "105324 : [21.6] [8.72]\n",
      "106746 : [25.4] [14]\n",
      "108163 : [1.45] [5.48]\n",
      "108260 : [3.12] [2.06]\n",
      "111038 : [1.13] [1.04]\n",
      "111065 : [12.8] [8.39]\n",
      "112145 : [9.52] [4.26]\n",
      "112252 : [8.58] [17.4]\n",
      "112638 : [16.9] [23.2]\n",
      "112889 : [103] [9.7]\n",
      "117501 : [2.46] [0.478]\n",
      "122551 : [1.44, 1.44, 1.44, 5.09, 5.09, 4.87, 15.3, 15.3, 15.3, 16.8, 16.8, 17.6] [19.6, 19.9, 1.43, 19.9, 1.43, 1.43, 19.6, 19.9, 1.43, 19.9, 1.43, 1.43]\n",
      "124036 : [10.3] [2.81]\n",
      "124919 : [10.6, 9.71] [6.04, 6.04]\n",
      "127888 : [35.7] [12.6]\n",
      "130857 : [13.8] [21]\n",
      "131578 : [40.2] [8.18]\n",
      "132074 : [6.5] [8.19]\n",
      "134662 : [19.2] [2.53]\n",
      "134674 : [2.4] [19.2]\n",
      "139332 : [0.373] [4.36]\n",
      "139972 : [11] [7.06]\n",
      "141199 : [91] [3.74]\n",
      "142327 : [19.9, 19.9] [18.5, 3.09]\n",
      "144362 : [16.8] [6.08]\n",
      "144835 : [17.2] [14.5]\n",
      "148512 : [89.2] [33.4]\n",
      "148557 : [39] [19.5]\n",
      "149143 : [35] [3.36]\n",
      "152450 : [16.7] [10.2]\n",
      "154416 : [88.7] [19.1]\n",
      "156987 : [20.3] [24.6]\n",
      "159313 : [1.85] [10.5]\n",
      "159806 : [18.2] [7.34]\n",
      "163733 : [24.6] [17.6]\n",
      "166059 : [37.5] [4.97]\n",
      "168834 : [15] [13.9]\n",
      "172179 : [32.1] [7.29]\n",
      "173339 : [22.8] [1.51]\n",
      "173715 : [36.8] [22.9]\n",
      "173910 : [12] [10.9]\n",
      "175570 : [8.35] [7.73]\n",
      "176259 : [29] [16.4]\n",
      "176453 : [2.23] [1.39]\n",
      "177016 : [3.03] [8.48]\n",
      "177430 : [86.1] [29.9]\n",
      "177984 : [5.08] [5.05]\n",
      "178455 : [14.3] [9]\n",
      "178656 : [25.9] [1.87]\n",
      "178782 : [2.79] [1.52]\n",
      "179347 : [88.1] [0.653]\n",
      "180210 : [11.2] [4.07]\n",
      "182497 : [15.9] [10.2]\n",
      "183936 : [26.4] [13.8]\n",
      "185067 : [71.3] [0.213]\n",
      "185384 : [3.09] [3.04]\n",
      "185828 : [16.3] [23.3]\n",
      "185982 : [12.4] [11.1]\n",
      "186087 : [128] [1.53]\n",
      "186560 : [3.37] [3.08]\n",
      "186735 : [3.1] [2.64]\n",
      "190843 : [15.5] [10.2]\n",
      "191795 : [0.618] [15.4]\n",
      "194139 : [14.1] [2.11]\n",
      "196013 : [9.55] [12.9]\n",
      "196232 : [93.2] [10]\n",
      "197186 : [1.55] [3.06]\n",
      "198204 : [3.1] [10.1]\n",
      "198965 : [24.9] [9.66]\n",
      "199856 : [1.54] [0.238]\n",
      "200774 : [9.87] [3.08]\n",
      "201953 : [6.44] [13.3]\n",
      "202427 : [26] [9.98]\n",
      "202830 : [59.2] [0.779]\n",
      "203432 : [2.48] [10.8]\n",
      "203779 : [46] [8.64]\n",
      "204034 : [1.47] [12]\n",
      "204893 : [90.5] [9.64]\n",
      "205768 : [3.06] [5.1]\n",
      "205924 : [99.5] [3.1]\n",
      "206104 : [3.81] [0.904]\n",
      "206887 : [0.556] [0.819]\n",
      "207968 : [3.11] [9.14]\n",
      "208827 : [22.6] [10.4]\n",
      "211486 : [83.4] [21.9]\n",
      "212478 : [16.8] [6.13]\n",
      "213770 : [79.6] [2.4]\n",
      "215123 : [10.2] [7.18]\n",
      "215365 : [27] [6.76]\n",
      "215720 : [2.57] [9.46]\n",
      "216489 : [3.09] [9.84]\n",
      "217649 : [16.4] [10.2]\n",
      "217731 : [31.1] [6.44]\n",
      "218625 : [3.07] [14.6]\n",
      "219368 : [3.52] [2.23]\n",
      "220173 : [13.5] [11.2]\n",
      "221575 : [38.1] [3.13]\n",
      "222527 : [32.2] [29.8]\n",
      "223286 : [0.523] [2.87]\n",
      "223725 : [4.12] [5.11]\n",
      "224639 : [3.17] [20.5]\n",
      "224942 : [48] [45]\n",
      "226716 : [15.5] [14.2]\n",
      "231498 : [10.3] [32.7]\n",
      "232688 : [9.36, 15.3] [7.84, 7.84]\n",
      "234302 : [15.3] [18.3]\n",
      "234733 : [2.75] [32]\n",
      "234874 : [1.6] [2.58]\n",
      "235042 : [10.3] [19.4]\n",
      "235971 : [1.05] [11.5]\n",
      "236664 : [0.713] [0.396]\n",
      "237351 : [1.2] [18.5]\n",
      "238597 : [48.2, 0.835] [2.95, 2.95]\n",
      "239066 : [27.4] [3.78]\n",
      "239642 : [12.6] [16.2]\n",
      "240172 : [7.74] [1.54]\n",
      "240378 : [94.9] [14.5]\n",
      "241067 : [18.2] [13.5]\n",
      "242203 : [43.3] [9.79]\n",
      "242781 : [32.8] [19.3]\n",
      "243296 : [28.2] [8.42]\n",
      "244331 : [7.66] [0.665]\n",
      "244447 : [35.5] [1.38]\n",
      "244712 : [10.4] [9.63]\n",
      "248149 : [62.8] [16.8]\n",
      "248569 : [1.43] [0.215]\n"
     ]
    }
   ],
   "source": [
    "i = 0\n",
    "for j, qquad in enumerate(fourmuon_c):\n",
    "    if len(qquad) == 0:\n",
    "        continue\n",
    "    print(j, ':', qquad.pair1.mass, qquad.pair2.mass)\n",
    "    i += 1\n",
    "    if i>200:\n",
    "        break"
   ]
  },
  {
   "cell_type": "code",
   "execution_count": 29,
   "id": "e8b7001b-95cf-4d5e-8e6a-59046458cb81",
   "metadata": {},
   "outputs": [
    {
     "name": "stdout",
     "output_type": "stream",
     "text": [
      "1570 : 3.8560288 7.5953736\n",
      "2436 : 3.1098068 2.1201692\n",
      "2938 : 2.393349 7.7710075\n",
      "3467 : 16.43877 23.356333\n",
      "4601 : 2.9752808 15.549328\n",
      "7634 : 3.055996 2.6950748\n",
      "8682 : 27.983902 1.9456105\n",
      "13819 : 26.369946 4.758242\n",
      "14605 : 9.2253685 7.296944\n",
      "19403 : 48.02938 2.1630223\n",
      "22850 : 5.3092074 4.713311\n",
      "25327 : 16.447248 16.28498\n",
      "27318 : 2.2045512 2.1221833\n",
      "31044 : 18.920177 6.475196\n",
      "31450 : 2.8126898 38.02492\n",
      "32974 : 90.88312 1.446199\n",
      "34121 : 30.638048 15.000087\n",
      "34153 : 4.691203 13.477272\n",
      "34888 : 3.7286992 10.564054\n",
      "38340 : 14.622793 15.748372\n",
      "50116 : 17.305595 12.185983\n",
      "50385 : 41.398808 7.7201886\n",
      "50945 : 7.401854 6.738733\n",
      "52093 : 3.0567248 22.83253\n",
      "53013 : 7.177885 8.435709\n",
      "55074 : 14.056404 9.636097\n",
      "55500 : 42.303074 9.196771\n",
      "55809 : 8.796528 28.154205\n",
      "56043 : 3.1144547 15.787054\n",
      "56242 : 24.345057 9.511949\n",
      "56558 : 50.6359 1.0926893\n"
     ]
    }
   ],
   "source": [
    "i = 0\n",
    "for j, qquad in enumerate(fourmuon_c):\n",
    "    if len(qquad) == 0:\n",
    "        continue\n",
    "    print(j, ':', qquad.pair1.mass[0], qquad.pair2.mass[0])\n",
    "    i += 1\n",
    "    if i>30:\n",
    "        break"
   ]
  },
  {
   "cell_type": "code",
   "execution_count": 30,
   "id": "dfbed7a9-69ff-4606-9ddc-93f098d0ecb3",
   "metadata": {},
   "outputs": [
    {
     "name": "stdout",
     "output_type": "stream",
     "text": [
      "1570 : [0.759] [0.759]\n",
      "2436 : [0.0129] [0.0129]\n",
      "2938 : [0.704] [0.704]\n",
      "3467 : [13.3] [13.3]\n",
      "4601 : [0.122] [0.122]\n",
      "7634 : [0.0409, 0.0409, 16.6] [0.0409, 0.0409, 16.6]\n",
      "8682 : [24.9] [24.9]\n",
      "13819 : [23.3, 23.3] [23.3, 23.3]\n",
      "14605 : [6.13] [6.13]\n",
      "19403 : [44.9] [44.9]\n",
      "22850 : [2.21] [2.21]\n",
      "25327 : [13.4] [13.4]\n",
      "27318 : [0.892] [0.892]\n",
      "31044 : [15.8] [15.8]\n",
      "31450 : [0.284] [0.284]\n",
      "32974 : [87.8] [87.8]\n",
      "34121 : [27.5] [27.5]\n",
      "34153 : [1.59] [1.59]\n",
      "34888 : [0.632] [0.632]\n",
      "38340 : [11.5] [11.5]\n",
      "50116 : [14.2] [14.2]\n",
      "50385 : [38.3] [38.3]\n",
      "50945 : [4.3] [4.3]\n",
      "52093 : [0.0402] [0.0402]\n",
      "53013 : [4.08] [4.08]\n",
      "55074 : [11] [11]\n",
      "55500 : [39.2, 39.2, 8.88] [39.2, 39.2, 8.88]\n",
      "55809 : [5.7] [5.7]\n",
      "56043 : [0.0175] [0.0175]\n",
      "56242 : [21.2] [21.2]\n",
      "56558 : [47.5] [47.5]\n"
     ]
    }
   ],
   "source": [
    "i = 0\n",
    "fourmuon_t1 = abs(fourmuon_c.pair1.mass - 3.096916)\n",
    "for j, qquad in enumerate(fourmuon_t1):\n",
    "    if len(qquad) == 0:\n",
    "        continue\n",
    "    print(j, ':', qquad, qquad)\n",
    "    i += 1\n",
    "    if i>30:\n",
    "        break"
   ]
  },
  {
   "cell_type": "code",
   "execution_count": 31,
   "id": "9a8e439f-6b4a-4cd3-b6be-c5db4fcbb2c7",
   "metadata": {},
   "outputs": [
    {
     "name": "stdout",
     "output_type": "stream",
     "text": [
      "1570 : [5.6] [5.6]\n",
      "2436 : [6.35] [6.35]\n",
      "2938 : [7.07] [7.07]\n",
      "3467 : [6.98] [6.98]\n",
      "4601 : [6.49] [6.49]\n",
      "7634 : [6.4, 6.4, 10.3] [6.4, 6.4, 10.3]\n",
      "8682 : [18.5] [18.5]\n",
      "13819 : [16.9, 16.9] [16.9, 16.9]\n",
      "14605 : [0.235] [0.235]\n",
      "19403 : [38.6] [38.6]\n",
      "22850 : [4.15] [4.15]\n",
      "25327 : [6.99] [6.99]\n",
      "27318 : [7.26] [7.26]\n",
      "31044 : [9.46] [9.46]\n",
      "31450 : [6.65] [6.65]\n",
      "32974 : [81.4] [81.4]\n",
      "34121 : [21.2] [21.2]\n",
      "34153 : [4.77] [4.77]\n",
      "34888 : [5.73] [5.73]\n",
      "38340 : [5.16] [5.16]\n",
      "50116 : [7.85] [7.85]\n",
      "50385 : [31.9] [31.9]\n",
      "50945 : [2.06] [2.06]\n",
      "52093 : [6.4] [6.4]\n",
      "53013 : [2.28] [2.28]\n",
      "55074 : [4.6] [4.6]\n",
      "55500 : [32.8, 32.8, 2.51] [32.8, 32.8, 2.51]\n",
      "55809 : [0.664] [0.664]\n",
      "56043 : [6.35] [6.35]\n",
      "56242 : [14.9] [14.9]\n",
      "56558 : [41.2] [41.2]\n"
     ]
    }
   ],
   "source": [
    "i = 0\n",
    "fourmuon_t1 = abs(fourmuon_c.pair1.mass - 9.46030)\n",
    "for j, qquad in enumerate(fourmuon_t1):\n",
    "    if len(qquad) == 0:\n",
    "        continue\n",
    "    print(j, ':', qquad, qquad)\n",
    "    i += 1\n",
    "    if i>30:\n",
    "        break"
   ]
  },
  {
   "cell_type": "code",
   "execution_count": 32,
   "id": "4c7ddd79-36f1-4fb0-8359-1b6d9e37999c",
   "metadata": {},
   "outputs": [
    {
     "name": "stdout",
     "output_type": "stream",
     "text": [
      "1570 : [0.759] [0.759]\n",
      "2436 : [0.0129] [0.0129]\n",
      "2938 : [0.704] [0.704]\n",
      "3467 : [6.98] [6.98]\n",
      "4601 : [0.122] [0.122]\n",
      "7634 : [0.0409, 0.0409, 10.3] [0.0409, 0.0409, 10.3]\n",
      "8682 : [18.5] [18.5]\n",
      "13819 : [16.9, 16.9] [16.9, 16.9]\n",
      "14605 : [0.235] [0.235]\n",
      "19403 : [38.6] [38.6]\n",
      "22850 : [2.21] [2.21]\n",
      "25327 : [6.99] [6.99]\n",
      "27318 : [0.892] [0.892]\n",
      "31044 : [9.46] [9.46]\n",
      "31450 : [0.284] [0.284]\n",
      "32974 : [81.4] [81.4]\n",
      "34121 : [21.2] [21.2]\n",
      "34153 : [1.59] [1.59]\n",
      "34888 : [0.632] [0.632]\n",
      "38340 : [5.16] [5.16]\n",
      "50116 : [7.85] [7.85]\n",
      "50385 : [31.9] [31.9]\n",
      "50945 : [2.06] [2.06]\n",
      "52093 : [0.0402] [0.0402]\n",
      "53013 : [2.28] [2.28]\n",
      "55074 : [4.6] [4.6]\n",
      "55500 : [32.8, 32.8, 2.51] [32.8, 32.8, 2.51]\n",
      "55809 : [0.664] [0.664]\n",
      "56043 : [0.0175] [0.0175]\n",
      "56242 : [14.9] [14.9]\n",
      "56558 : [41.2] [41.2]\n"
     ]
    }
   ],
   "source": [
    "i = 0\n",
    "fourmuon_t1 = ak.min(ak.Array([abs(fourmuon_c.pair1.mass - 3.096916), abs(fourmuon_c.pair1.mass - 9.46030)]), axis=0)\n",
    "for j, qquad in enumerate(fourmuon_t1):\n",
    "    if len(qquad) == 0:\n",
    "        continue\n",
    "    print(j, ':', qquad, qquad)\n",
    "    i += 1\n",
    "    if i>30:\n",
    "        break"
   ]
  },
  {
   "cell_type": "code",
   "execution_count": 33,
   "id": "d13a7fc0-6236-460d-83ab-ef19a1250502",
   "metadata": {},
   "outputs": [],
   "source": [
    "jpsimass = 3.096916\n",
    "upsilonmass = 9.46030\n",
    "bestmass = ak.singletons(\n",
    "               ak.argmin(\n",
    "                   ak.min(\n",
    "                       ak.Array([abs(fourmuon_c.pair1.mass - jpsimass), abs(fourmuon_c.pair1.mass - upsilonmass)]), axis=0\n",
    "                   ) +\n",
    "                   ak.min(\n",
    "                       ak.Array([abs(fourmuon_c.pair2.mass - jpsimass), abs(fourmuon_c.pair2.mass - upsilonmass)]), axis=0\n",
    "                   ),\n",
    "                   axis=1\n",
    "               )\n",
    ")"
   ]
  },
  {
   "cell_type": "code",
   "execution_count": 38,
   "id": "38764912-e715-4a49-a324-3be859a2b7e9",
   "metadata": {},
   "outputs": [
    {
     "name": "stdout",
     "output_type": "stream",
     "text": [
      "1570 [0]\n",
      "2436 [0]\n",
      "2938 [0]\n",
      "3467 [0]\n",
      "4601 [0]\n",
      "7634 [0]\n",
      "8682 [0]\n",
      "13819 [1]\n",
      "14605 [0]\n",
      "19403 [0]\n",
      "22850 [0]\n",
      "25327 [0]\n",
      "27318 [0]\n",
      "31044 [0]\n",
      "31450 [0]\n",
      "32974 [0]\n",
      "34121 [0]\n",
      "34153 [0]\n",
      "34888 [0]\n",
      "38340 [0]\n",
      "50116 [0]\n",
      "50385 [0]\n",
      "50945 [0]\n",
      "52093 [0]\n",
      "53013 [0]\n",
      "55074 [0]\n",
      "55500 [2]\n",
      "55809 [0]\n",
      "56043 [0]\n",
      "56242 [0]\n",
      "56558 [0]\n",
      "56691 [0]\n",
      "56920 [0]\n",
      "57181 [0]\n",
      "57259 [0]\n",
      "60537 [0]\n",
      "61028 [0]\n",
      "61077 [0]\n",
      "62084 [0]\n",
      "62366 [0]\n",
      "62452 [0]\n",
      "63684 [0]\n",
      "63915 [0]\n",
      "65921 [0]\n",
      "67408 [0]\n",
      "67456 [0]\n",
      "67751 [0]\n",
      "67976 [0]\n",
      "68506 [0]\n",
      "69595 [0]\n",
      "72516 [0]\n"
     ]
    }
   ],
   "source": [
    "i = 0\n",
    "for j, ididx in enumerate(bestmass):\n",
    "    if ak.count(ididx)==0:\n",
    "        continue\n",
    "    print(j, ididx)\n",
    "    i += 1\n",
    "    if i>50:\n",
    "        break"
   ]
  },
  {
   "cell_type": "code",
   "execution_count": 39,
   "id": "b3b1a699-6ad6-4377-8d4a-20dc4bd41479",
   "metadata": {},
   "outputs": [],
   "source": [
    "fourmuon_bm = ak.flatten(fourmuon_c[bestmass])"
   ]
  },
  {
   "cell_type": "code",
   "execution_count": 42,
   "id": "55662651-592b-4205-8992-c02e0e1cf394",
   "metadata": {},
   "outputs": [
    {
     "data": {
      "text/html": [
       "<pre>[7.6,\n",
       " 2.12,\n",
       " 7.77,\n",
       " 23.4,\n",
       " 15.5,\n",
       " 2.7,\n",
       " 1.95,\n",
       " 3.48,\n",
       " 7.3,\n",
       " 2.16,\n",
       " ...,\n",
       " 4.41,\n",
       " 6.58,\n",
       " 26.2,\n",
       " 9.97,\n",
       " 25.8,\n",
       " 12.4,\n",
       " 26.9,\n",
       " 23,\n",
       " 11.4]\n",
       "--------------------\n",
       "type: 2135 * float32</pre>"
      ],
      "text/plain": [
       "<Array [7.6, 2.12, 7.77, 23.4, ..., 12.4, 26.9, 23, 11.4] type='2135 * float32'>"
      ]
     },
     "execution_count": 42,
     "metadata": {},
     "output_type": "execute_result"
    }
   ],
   "source": [
    "fourmuon_bm.pair2.mass"
   ]
  },
  {
   "cell_type": "code",
   "execution_count": 44,
   "id": "77975fe8-8886-4527-b761-21eacd306704",
   "metadata": {},
   "outputs": [],
   "source": [
    "allmass = ak.concatenate(ak.Array([fourmuon_bm.pair1.mass, fourmuon_bm.pair2.mass]))"
   ]
  },
  {
   "cell_type": "code",
   "execution_count": 45,
   "id": "4533a4df-d123-45c3-8c56-d64f78ddbb83",
   "metadata": {},
   "outputs": [
    {
     "data": {
      "text/html": [
       "<pre>[3.86,\n",
       " 3.11,\n",
       " 2.39,\n",
       " 16.4,\n",
       " 2.98,\n",
       " 3.06,\n",
       " 28,\n",
       " 26.4,\n",
       " 9.23,\n",
       " 48,\n",
       " ...,\n",
       " 4.41,\n",
       " 6.58,\n",
       " 26.2,\n",
       " 9.97,\n",
       " 25.8,\n",
       " 12.4,\n",
       " 26.9,\n",
       " 23,\n",
       " 11.4]\n",
       "--------------------\n",
       "type: 4270 * float64</pre>"
      ],
      "text/plain": [
       "<Array [3.86, 3.11, 2.39, 16.4, ..., 26.9, 23, 11.4] type='4270 * float64'>"
      ]
     },
     "execution_count": 45,
     "metadata": {},
     "output_type": "execute_result"
    }
   ],
   "source": [
    "allmass"
   ]
  },
  {
   "cell_type": "code",
   "execution_count": 49,
   "id": "c5d160e8-e30f-481b-9b91-2b281d33f0a0",
   "metadata": {},
   "outputs": [],
   "source": [
    "import hist\n",
    "import matplotlib.pyplot as plt   #TODO move these up\n",
    "%matplotlib inline\n",
    "#histogram = hist.Hist.new.Reg(1000, 0, 200,\n",
    "#                              name=\"m2mu\", label=\"m2mu [GeV]\").Weight()\n",
    "histogram = hist.Hist.new.Reg(100, 0, 10, name=\"m2mu\", label=\"m2mu [GeV]\").Weight()"
   ]
  },
  {
   "cell_type": "code",
   "execution_count": 50,
   "id": "515549d5-443d-4038-9828-ac658d2bd6e8",
   "metadata": {},
   "outputs": [
    {
     "data": {
      "text/html": [
       "<html>\n",
       "<div style=\"display:flex; align-items:center;\">\n",
       "<div style=\"width:290px;\">\n",
       "<svg xmlns=\"http://www.w3.org/2000/svg\" viewBox=\"-10 -105 270 120\">\n",
       "<line x1=\"-5\" y1=\"0\" x2=\"255\" y2=\"0\" style=\"fill:none;stroke-width:2;stroke:currentColor\"/>\n",
       "<text text-anchor=\"middle\" x=\"0\" y=\"15\" style=\"fill:currentColor;\">\n",
       "0\n",
       "</text>\n",
       "<text text-anchor=\"middle\" x=\"250\" y=\"15\" style=\"fill:currentColor;\">\n",
       "10\n",
       "</text>\n",
       "<text text-anchor=\"middle\" x=\"125.0\" y=\"15\" style=\"fill:currentColor;\">\n",
       "m2mu [GeV]\n",
       "</text>\n",
       "<polyline points=\"  0,0   0,-0 2.5,-0 2.5,-0   5,-0   5,-16.6 7.5,-16.6 7.5,-11.7  10,-11.7  10,-11 12.5,-11 12.5,-12.3  15,-12.3  15,-9.82 17.5,-9.82 17.5,-15.3  20,-15.3  20,-14.1 22.5,-14.1 22.5,-18.4  25,-18.4  25,-14.7 27.5,-14.7 27.5,-17.2  30,-17.2  30,-18.4 32.5,-18.4 32.5,-22.1  35,-22.1  35,-17.2 37.5,-17.2 37.5,-15.3  40,-15.3  40,-20.2 42.5,-20.2 42.5,-16  45,-16  45,-17.8 47.5,-17.8 47.5,-14.7  50,-14.7  50,-17.2 52.5,-17.2 52.5,-12.9  55,-12.9  55,-14.1 57.5,-14.1 57.5,-18.4  60,-18.4  60,-13.5 62.5,-13.5 62.5,-16.6  65,-16.6  65,-11 67.5,-11 67.5,-13.5  70,-13.5  70,-17.8 72.5,-17.8 72.5,-17.2  75,-17.2  75,-100 77.5,-100 77.5,-73.6  80,-73.6  80,-8.59 82.5,-8.59 82.5,-9.2  85,-9.2  85,-6.75 87.5,-6.75 87.5,-6.13  90,-6.13  90,-9.82 92.5,-9.82 92.5,-6.75  95,-6.75  95,-10.4 97.5,-10.4 97.5,-7.98 100,-7.98 100,-8.59 102.5,-8.59 102.5,-7.98 105,-7.98 105,-5.52 107.5,-5.52 107.5,-6.75 110,-6.75 110,-7.98 112.5,-7.98 112.5,-5.52 115,-5.52 115,-10.4 117.5,-10.4 117.5,-7.36 120,-7.36 120,-7.98 122.5,-7.98 122.5,-7.36 125,-7.36 125,-8.59 127.5,-8.59 127.5,-6.13 130,-6.13 130,-6.75 132.5,-6.75 132.5,-5.52 135,-5.52 135,-8.59 137.5,-8.59 137.5,-7.36 140,-7.36 140,-7.98 142.5,-7.98 142.5,-9.82 145,-9.82 145,-10.4 147.5,-10.4 147.5,-7.36 150,-7.36 150,-9.2 152.5,-9.2 152.5,-9.2 155,-9.2 155,-1.84 157.5,-1.84 157.5,-4.91 160,-4.91 160,-15.3 162.5,-15.3 162.5,-12.9 165,-12.9 165,-5.52 167.5,-5.52 167.5,-9.2 170,-9.2 170,-11.7 172.5,-11.7 172.5,-9.2 175,-9.2 175,-7.98 177.5,-7.98 177.5,-17.8 180,-17.8 180,-6.75 182.5,-6.75 182.5,-10.4 185,-10.4 185,-7.36 187.5,-7.36 187.5,-7.98 190,-7.98 190,-11 192.5,-11 192.5,-12.9 195,-12.9 195,-14.1 197.5,-14.1 197.5,-6.13 200,-6.13 200,-6.13 202.5,-6.13 202.5,-14.1 205,-14.1 205,-9.2 207.5,-9.2 207.5,-8.59 210,-8.59 210,-11 212.5,-11 212.5,-12.9 215,-12.9 215,-9.82 217.5,-9.82 217.5,-10.4 220,-10.4 220,-11 222.5,-11 222.5,-9.2 225,-9.2 225,-11 227.5,-11 227.5,-9.2 230,-9.2 230,-11 232.5,-11 232.5,-12.3 235,-12.3 235,-20.9 237.5,-20.9 237.5,-11.7 240,-11.7 240,-9.82 242.5,-9.82 242.5,-9.2 245,-9.2 245,-11.7 247.5,-11.7 247.5,-16 250,-16 250,0\" style=\"fill:none; stroke:currentColor;\"/>\n",
       "</svg>\n",
       "</div>\n",
       "<div style=\"flex=grow:1;\">\n",
       "Regular(100, 0, 10, name='m2mu', label='m2mu [GeV]')<br/>\n",
       "<hr style=\"margin-top:.2em; margin-bottom:.2em;\"/>\n",
       "Weight() Σ=WeightedSum(value=2029, variance=2029) <em>(WeightedSum(value=4270, variance=4270) with flow)</em>\n",
       "\n",
       "</div>\n",
       "</div>\n",
       "</html>"
      ],
      "text/plain": [
       "Hist(Regular(100, 0, 10, name='m2mu', label='m2mu [GeV]'), storage=Weight()) # Sum: WeightedSum(value=2029, variance=2029) (WeightedSum(value=4270, variance=4270) with flow)"
      ]
     },
     "execution_count": 50,
     "metadata": {},
     "output_type": "execute_result"
    }
   ],
   "source": [
    "histogram.fill(m2mu=allmass)"
   ]
  },
  {
   "cell_type": "code",
   "execution_count": 51,
   "id": "8443657c-7c6e-411e-bc03-98d7b3375377",
   "metadata": {},
   "outputs": [
    {
     "data": {
      "image/png": "[encoded data removed]",
      "text/plain": [
       "<Figure size 1152x864 with 1 Axes>"
      ]
     },
     "metadata": {
      "needs_background": "light"
     },
     "output_type": "display_data"
    }
   ],
   "source": [
    "plt.figure(figsize=(16,12))\n",
    "histogram.plot(histtype=\"fill\", linewidth=1, edgecolor=\"grey\", label='m2mu')\n",
    "plt.legend()\n",
    "plt.title(\"m2mu\")\n",
    "plt.xlabel(\"$m_{mumu}$ [GeV]\");\n",
    "plt.show()"
   ]
  },
  {
   "cell_type": "code",
   "execution_count": null,
   "id": "a2154bb9-bcbd-462f-8c55-9ec08dfc896a",
   "metadata": {},
   "outputs": [],
   "source": []
  }
 ],
 "metadata": {
  "kernelspec": {
   "display_name": "Python 3 (ipykernel)",
   "language": "python",
   "name": "python3"
  },
  "language_info": {
   "codemirror_mode": {
    "name": "ipython",
    "version": 3
   },
   "file_extension": ".py",
   "mimetype": "text/x-python",
   "name": "python",
   "nbconvert_exporter": "python",
   "pygments_lexer": "ipython3",
   "version": "3.10.5"
  }
 },
 "nbformat": 4,
 "nbformat_minor": 5
}
