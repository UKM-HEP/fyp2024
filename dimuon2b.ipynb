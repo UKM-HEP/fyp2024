{
 "cells": [
  {
   "cell_type": "code",
   "execution_count": 1,
   "id": "d4129869-bc12-4f75-a4f0-c33e55b0e08d",
   "metadata": {},
   "outputs": [
    {
     "name": "stderr",
     "output_type": "stream",
     "text": [
      "/usr/local/venv/lib/python3.10/site-packages/coffea/nanoevents/schemas/fcc.py:5: FutureWarning: In version 2025.1.0 (target date: 2024-12-31 11:59:59-06:00), this will be an error.\n",
      "To raise these warnings as errors (and get stack traces to find out where they're called), run\n",
      "    import warnings\n",
      "    warnings.filterwarnings(\"error\", module=\"coffea.*\")\n",
      "after the first `import coffea` or use `@pytest.mark.filterwarnings(\"error:::coffea.*\")` in pytest.\n",
      "Issue: coffea.nanoevents.methods.vector will be removed and replaced with scikit-hep vector. Nanoevents schemas internal to coffea will be migrated. Otherwise please consider using that package!.\n",
      "  from coffea.nanoevents.methods import vector\n",
      "/usr/local/venv/lib/python3.10/site-packages/coffea/nanoevents/schemas/nanoaod.py:264: RuntimeWarning: Missing cross-reference index for LowPtElectron_electronIdx => Electron\n",
      "  warnings.warn(\n",
      "/usr/local/venv/lib/python3.10/site-packages/coffea/nanoevents/schemas/nanoaod.py:264: RuntimeWarning: Missing cross-reference index for LowPtElectron_photonIdx => Photon\n",
      "  warnings.warn(\n"
     ]
    },
    {
     "name": "stdout",
     "output_type": "stream",
     "text": [
      "Number of events =  2147195\n"
     ]
    }
   ],
   "source": [
    "import awkward as ak\n",
    "from coffea.nanoevents import NanoEventsFactory, NanoAODSchema\n",
    "\n",
    "#fname = \"root://eospublic.cern.ch//eos/opendata/cms/Run2016H/DoubleMuon/NANOAOD/UL2016_MiniAODv2_NanoAODv9-v1/2510000/127C2975-1B1C-A046-AABF-62B77E757A86.root\"\n",
    "fname = \"file:/opendata_cms/DoubleMuon/Run2016H-UL2016_MiniAODv2_NanoAODv9-v1/NANOAOD/127C2975-1B1C-A046-AABF-62B77E757A86.root\"\n",
    "events = NanoEventsFactory.from_root(\n",
    "    {fname: \"Events\"},\n",
    "    schemaclass=NanoAODSchema,\n",
    "    metadata={\"dataset\": \"DoubleMuon\"},\n",
    ").events()\n",
    "\n",
    "print(\"Number of events = \", ak.num(events.Muon, axis=0).compute())"
   ]
  },
  {
   "cell_type": "code",
   "execution_count": 2,
   "id": "5d14bff8-5971-4865-8b96-84ad73872a61",
   "metadata": {},
   "outputs": [
    {
     "name": "stdout",
     "output_type": "stream",
     "text": [
      "Number of muons =  4806013\n"
     ]
    }
   ],
   "source": [
    "print(\"Number of muons = \", ak.count(events.Muon.mass, axis=None).compute())"
   ]
  },
  {
   "cell_type": "code",
   "execution_count": 3,
   "id": "54b21cbc-ac2c-4913-a4ae-ba1e5839a621",
   "metadata": {},
   "outputs": [
    {
     "name": "stdout",
     "output_type": "stream",
     "text": [
      "Number of selected muons after isGlobal==1:  4110800\n"
     ]
    }
   ],
   "source": [
    "selected_muons = events.Muon[(events.Muon.isGlobal == 1)]\n",
    "print(\"Number of selected muons after isGlobal==1: \", ak.count(selected_muons.mass, axis=None).compute())"
   ]
  },
  {
   "cell_type": "code",
   "execution_count": 4,
   "id": "1f3e24ce-4359-4f49-a564-c83aff818980",
   "metadata": {},
   "outputs": [
    {
     "name": "stdout",
     "output_type": "stream",
     "text": [
      "Number of selected muons after nStations>0:  3936437\n"
     ]
    }
   ],
   "source": [
    "selected_muons = selected_muons[(selected_muons.nStations > 0)]\n",
    "print(\"Number of selected muons after nStations>0: \", ak.count(selected_muons.mass, axis=None).compute())"
   ]
  },
  {
   "cell_type": "code",
   "execution_count": 5,
   "id": "b69173dc-99be-4559-91c5-9276337d6f11",
   "metadata": {},
   "outputs": [
    {
     "name": "stdout",
     "output_type": "stream",
     "text": [
      "Number of selected muons after nTrackerLayers>5:  3908889\n"
     ]
    }
   ],
   "source": [
    "selected_muons = selected_muons[(selected_muons.nTrackerLayers > 5)]\n",
    "print(\"Number of selected muons after nTrackerLayers>5: \", ak.count(selected_muons.mass, axis=None).compute())"
   ]
  },
  {
   "cell_type": "code",
   "execution_count": 6,
   "id": "bfa44cab-782f-4991-8dde-8d73f285bba5",
   "metadata": {},
   "outputs": [
    {
     "name": "stdout",
     "output_type": "stream",
     "text": [
      "Number of selected muons after PV impact param sel:  3892547\n"
     ]
    }
   ],
   "source": [
    "selected_muons = selected_muons[(selected_muons.dxy < 0.3) & (selected_muons.dz < 20.0)]\n",
    "print(\"Number of selected muons after PV impact param sel: \", ak.count(selected_muons.mass, axis=None).compute())       "
   ]
  },
  {
   "cell_type": "code",
   "execution_count": 7,
   "id": "9aead1b7-532c-4120-bcf1-e8ef51f05656",
   "metadata": {},
   "outputs": [
    {
     "name": "stdout",
     "output_type": "stream",
     "text": [
      "Number of selected muons after pt,eta sel:  3883500\n"
     ]
    }
   ],
   "source": [
    "selected_muons = selected_muons[(selected_muons.pt > 3.0) & (abs(selected_muons.eta) < 2.4)]\n",
    "print(\"Number of selected muons after pt,eta sel: \", ak.count(selected_muons.mass, axis=None).compute())"
   ]
  },
  {
   "cell_type": "code",
   "execution_count": 8,
   "id": "49d27576-8b67-49ef-87af-e95cd440b94f",
   "metadata": {},
   "outputs": [
    {
     "name": "stdout",
     "output_type": "stream",
     "text": [
      "Number of selected muons after ptcone30 isolation:  2681124\n"
     ]
    }
   ],
   "source": [
    "selected_muons = selected_muons[(selected_muons.pfRelIso03_chg < 0.5)]\n",
    "print(\"Number of selected muons after ptcone30 isolation: \", ak.count(selected_muons.mass, axis=None).compute())"
   ]
  },
  {
   "cell_type": "code",
   "execution_count": 9,
   "id": "67bff0ec-4ba8-4242-a390-84c9f7ee2c9a",
   "metadata": {},
   "outputs": [
    {
     "name": "stdout",
     "output_type": "stream",
     "text": [
      "Number of selected events with num(muons)>0:  1604214\n",
      "Corresponding number of selected muons:  2681124\n"
     ]
    }
   ],
   "source": [
    "selectede_muons = selected_muons[ak.num(selected_muons) > 0]\n",
    "print(\"Number of selected events with num(muons)>0: \", ak.num(selectede_muons.mass, axis=0).compute())\n",
    "print(\"Corresponding number of selected muons: \", ak.count(selectede_muons.mass, axis=None).compute())"
   ]
  },
  {
   "cell_type": "code",
   "execution_count": 10,
   "id": "a9e45eb0-ea24-48be-a39a-fadd65b232e7",
   "metadata": {},
   "outputs": [],
   "source": [
    "#selected_muons_c = selected_muons.compute()\n",
    "pass"
   ]
  },
  {
   "cell_type": "code",
   "execution_count": 11,
   "id": "093d30a3-ac24-498d-890f-a05942a0b0e2",
   "metadata": {},
   "outputs": [],
   "source": [
    "fourmuon = ak.combinations(selected_muons, 4, fields=['lep1','lep2','lep3','lep4'])"
   ]
  },
  {
   "cell_type": "code",
   "execution_count": 12,
   "id": "44d20f8a-1eac-4f15-9aed-20df833dc04c",
   "metadata": {},
   "outputs": [
    {
     "name": "stdout",
     "output_type": "stream",
     "text": [
      "<class 'dask_awkward.lib.core.Array'>\n"
     ]
    }
   ],
   "source": [
    "print(type(fourmuon))"
   ]
  },
  {
   "cell_type": "code",
   "execution_count": 13,
   "id": "ed09c3fc-bbf3-4cd5-bfdc-b2ba7044e50d",
   "metadata": {},
   "outputs": [
    {
     "name": "stdout",
     "output_type": "stream",
     "text": [
      "Number of 4-muon combination:  6170\n"
     ]
    }
   ],
   "source": [
    "print(\"Number of 4-muon combination: \", ak.count(fourmuon.lep1.mass, axis=None).compute())"
   ]
  },
  {
   "cell_type": "code",
   "execution_count": 14,
   "id": "d1dbe6ea-9a19-4eec-bbeb-5acc1cd3aa3b",
   "metadata": {},
   "outputs": [],
   "source": [
    "fourmuon = fourmuon[(fourmuon.lep1.charge + fourmuon.lep2.charge == 0) &\n",
    "                    (fourmuon.lep3.charge + fourmuon.lep4.charge == 0)]"
   ]
  },
  {
   "cell_type": "code",
   "execution_count": 15,
   "id": "b98d63ba-517e-4c4a-8e3d-58201e6a04cd",
   "metadata": {},
   "outputs": [
    {
     "name": "stdout",
     "output_type": "stream",
     "text": [
      "Number of 4-muon combination after charge check:  2304\n"
     ]
    }
   ],
   "source": [
    "print(\"Number of 4-muon combination after charge check: \", ak.count(fourmuon.lep1.mass, axis=None).compute())"
   ]
  },
  {
   "cell_type": "code",
   "execution_count": 16,
   "id": "133f69b3-f787-4d3c-a6c7-5e0dfeb3a7f8",
   "metadata": {},
   "outputs": [],
   "source": [
    "fourmuon[\"pair1\"] = fourmuon.lep1 + fourmuon.lep2\n",
    "fourmuon[\"pair2\"] = fourmuon.lep3 + fourmuon.lep4"
   ]
  },
  {
   "cell_type": "code",
   "execution_count": 17,
   "id": "c7e4c6a8-9d2f-460f-bf38-6ab9c79bb096",
   "metadata": {},
   "outputs": [],
   "source": [
    "import dask_awkward as dak\n",
    "\n",
    "jpsimass = 3.096916\n",
    "upsilonmass = 9.46030\n",
    "\n",
    "diff1_pair1 = abs(fourmuon.pair1.mass - jpsimass)\n",
    "diff2_pair1 = abs(fourmuon.pair1.mass - upsilonmass)\n",
    "\n",
    "diff1_pair2 = abs(fourmuon.pair2.mass - jpsimass)\n",
    "diff2_pair2 = abs(fourmuon.pair2.mass - upsilonmass)\n",
    "\n",
    "min_diff_pair1 = dak.where(diff1_pair1 < diff2_pair1, diff1_pair1, diff2_pair1)\n",
    "min_diff_pair2 = dak.where(diff1_pair2 < diff2_pair2, diff1_pair2, diff2_pair2)\n",
    "\n",
    "total_diff = min_diff_pair1 + min_diff_pair2\n",
    "\n",
    "non_empty_mask = dak.num(total_diff, axis=1) > 0\n",
    "filtered_total_diff = dak.mask(total_diff, non_empty_mask)\n",
    "\n",
    "bestmass_idx = dak.argmin(filtered_total_diff, axis=1)\n",
    "\n",
    "#bestmass_idx_filled = dak.fillna(bestmass_idx, -1)\n",
    "\n",
    "bestmass = dak.map_partitions(lambda x: x[:, None], bestmass_idx)\n",
    "\n",
    "#bestmass = dak.repartition(dak.from_regular(bestmass_idx, npartitions=fourmuon.npartitions))"
   ]
  },
  {
   "cell_type": "code",
   "execution_count": 18,
   "id": "2fca593a-1576-4339-949c-c42dc9774ac1",
   "metadata": {},
   "outputs": [],
   "source": [
    "fourmuon_bm = dak.flatten(fourmuon[bestmass])\n",
    "pair1_mass = fourmuon_bm.pair1.mass\n",
    "pair2_mass = fourmuon_bm.pair2.mass\n",
    "allmass = dak.concatenate([pair1_mass, pair2_mass], axis=0)\n",
    "#non_none_mask = allmass != None\n",
    "#filtered_allmass = dak.mask(allmass, non_none_mask)"
   ]
  },
  {
   "cell_type": "code",
   "execution_count": 19,
   "id": "7e686e8b-637d-4de7-be70-fdf7c9fb1c4c",
   "metadata": {},
   "outputs": [
    {
     "name": "stdout",
     "output_type": "stream",
     "text": [
      "Count of the best dimuon masses:  4270\n"
     ]
    }
   ],
   "source": [
    "print(\"Count of the best dimuon masses: \", ak.count(allmass).compute())"
   ]
  },
  {
   "cell_type": "code",
   "execution_count": 20,
   "id": "d6bfb25f-c06f-44a6-930b-e07b8144fbfc",
   "metadata": {},
   "outputs": [
    {
     "name": "stdout",
     "output_type": "stream",
     "text": [
      "Count of pair1 best masses:  2135\n",
      "Count of pair2 best masses:  2135\n"
     ]
    }
   ],
   "source": [
    "print(\"Count of pair1 best masses: \", ak.count(fourmuon_bm.pair1.mass).compute())\n",
    "print(\"Count of pair2 best masses: \", ak.count(fourmuon_bm.pair2.mass).compute())"
   ]
  },
  {
   "cell_type": "code",
   "execution_count": 21,
   "id": "3931925b-2b0e-495c-ae86-9c7b159a4a70",
   "metadata": {},
   "outputs": [],
   "source": [
    "# if both MUST BE J/psi\n",
    "#fourmuon_bm_jpsi = fourmuon_bm[(fourmuon_bm.pair1.mass > (jpsimass-0.1)) &\n",
    "#                               (fourmuon_bm.pair1.mass < (jpsimass+0.1)) &\n",
    "#                               (fourmuon_bm.pair2.mass > (jpsimass-0.15)) &\n",
    "#                               (fourmuon_bm.pair2.mass < (jpsimass+0.15))]\n",
    "#print(\"Count of pair1 best J/psi: \", ak.count(fourmuon_bm_jpsi.pair1.mass).compute())\n",
    "#print(\"Count of pair2 best J/psi: \", ak.count(fourmuon_bm_jpsi.pair2.mass).compute())"
   ]
  },
  {
   "cell_type": "code",
   "execution_count": 22,
   "id": "b53581fd-5b07-4432-ab71-af8fc0feaf0b",
   "metadata": {},
   "outputs": [
    {
     "name": "stdout",
     "output_type": "stream",
     "text": [
      "Count of best (tight) J/psi:  284\n"
     ]
    }
   ],
   "source": [
    "allbestmass_jpsi = allmass[(allmass > (jpsimass-0.1)) & (allmass < (jpsimass+0.1))]\n",
    "print(\"Count of best (tight) J/psi: \", ak.count(allbestmass_jpsi).compute())"
   ]
  },
  {
   "cell_type": "code",
   "execution_count": 23,
   "id": "bdb547fb-130d-48be-aed6-87bd45cdf9e1",
   "metadata": {},
   "outputs": [],
   "source": [
    "# if both MUST BE Upsilon\n",
    "#fourmuon_bm_upsl = fourmuon_bm[(fourmuon_bm.pair1.mass > 8.0) &\n",
    "#                               (fourmuon_bm.pair1.mass < 11.0) &\n",
    "#                               (fourmuon_bm.pair2.mass > 8.5) &\n",
    "#                               (fourmuon_bm.pair2.mass < 11.0)]\n",
    "#print(\"Count of pair1 best Upsilon: \", ak.count(fourmuon_bm_upsl.pair1.mass).compute())\n",
    "#print(\"Count of pair2 best Upsilon: \", ak.count(fourmuon_bm_upsl.pair2.mass).compute())"
   ]
  },
  {
   "cell_type": "code",
   "execution_count": 24,
   "id": "3d428dd1-3995-409f-bc31-9cc28e3ae68b",
   "metadata": {},
   "outputs": [
    {
     "name": "stdout",
     "output_type": "stream",
     "text": [
      "Count of best (tight) Upsilon:  476\n"
     ]
    }
   ],
   "source": [
    "allbestmass_upsl = allmass[(allmass > 8.5) & (allmass < 11.0)]\n",
    "print(\"Count of best (tight) Upsilon: \", ak.count(allbestmass_upsl).compute())"
   ]
  },
  {
   "cell_type": "code",
   "execution_count": 25,
   "id": "29738846-deaf-42d6-b60d-f971db6b413a",
   "metadata": {},
   "outputs": [],
   "source": [
    "allmass_c = allmass.compute()\n",
    "allmass_c = [x for x in allmass_c if x is not None]"
   ]
  },
  {
   "cell_type": "code",
   "execution_count": 26,
   "id": "b1a42376-4b09-414c-94d8-2a29cfee5c25",
   "metadata": {},
   "outputs": [
    {
     "data": {
      "image/png": "[encoded data removed]",
      "text/plain": [
       "<Figure size 1152x864 with 1 Axes>"
      ]
     },
     "metadata": {
      "needs_background": "light"
     },
     "output_type": "display_data"
    }
   ],
   "source": [
    "import hist\n",
    "import matplotlib.pyplot as plt   #TODO move these up\n",
    "%matplotlib inline\n",
    "#histogram = hist.Hist.new.Reg(1000, 0, 200,\n",
    "#                              name=\"m2mu\", label=\"m2mu [GeV]\").Weight()\n",
    "histogram = hist.Hist.new.Reg(200, 0, 20, name=\"m2mu\", label=\"m2mu [GeV]\").Weight()\n",
    "histogram.fill(m2mu=allmass_c)\n",
    "plt.figure(figsize=(16,12))\n",
    "histogram.plot(histtype=\"fill\", linewidth=1, edgecolor=\"grey\", label='m2mu')\n",
    "plt.legend()\n",
    "plt.title(\"m2mu\")\n",
    "plt.xlabel(\"$m_{mumu}$ [GeV]\");\n",
    "plt.show()"
   ]
  },
  {
   "cell_type": "code",
   "execution_count": 27,
   "id": "b3a3d3f7-c36e-434b-8ddb-3d0968908fd5",
   "metadata": {},
   "outputs": [
    {
     "data": {
      "text/plain": [
       "list"
      ]
     },
     "execution_count": 27,
     "metadata": {},
     "output_type": "execute_result"
    }
   ],
   "source": [
    "type(allmass_c)"
   ]
  },
  {
   "cell_type": "code",
   "execution_count": 28,
   "id": "ce936865-38d2-4d71-a5dd-3ac9c47978ac",
   "metadata": {},
   "outputs": [
    {
     "data": {
      "text/plain": [
       "4270"
      ]
     },
     "execution_count": 28,
     "metadata": {},
     "output_type": "execute_result"
    }
   ],
   "source": [
    "len(allmass_c)"
   ]
  },
  {
   "cell_type": "code",
   "execution_count": null,
   "id": "86beb892-3896-4a73-af1c-94bdd300d57c",
   "metadata": {},
   "outputs": [],
   "source": []
  }
 ],
 "metadata": {
  "kernelspec": {
   "display_name": "Python 3 (ipykernel)",
   "language": "python",
   "name": "python3"
  },
  "language_info": {
   "codemirror_mode": {
    "name": "ipython",
    "version": 3
   },
   "file_extension": ".py",
   "mimetype": "text/x-python",
   "name": "python",
   "nbconvert_exporter": "python",
   "pygments_lexer": "ipython3",
   "version": "3.10.5"
  }
 },
 "nbformat": 4,
 "nbformat_minor": 5
}
