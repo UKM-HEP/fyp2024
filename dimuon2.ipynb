{
 "cells": [
  {
   "cell_type": "code",
   "execution_count": 1,
   "id": "d4129869-bc12-4f75-a4f0-c33e55b0e08d",
   "metadata": {},
   "outputs": [
    {
     "name": "stderr",
     "output_type": "stream",
     "text": [
      "/usr/local/venv/lib/python3.10/site-packages/coffea/nanoevents/schemas/fcc.py:5: FutureWarning: In version 2025.1.0 (target date: 2024-12-31 11:59:59-06:00), this will be an error.\n",
      "To raise these warnings as errors (and get stack traces to find out where they're called), run\n",
      "    import warnings\n",
      "    warnings.filterwarnings(\"error\", module=\"coffea.*\")\n",
      "after the first `import coffea` or use `@pytest.mark.filterwarnings(\"error:::coffea.*\")` in pytest.\n",
      "Issue: coffea.nanoevents.methods.vector will be removed and replaced with scikit-hep vector. Nanoevents schemas internal to coffea will be migrated. Otherwise please consider using that package!.\n",
      "  from coffea.nanoevents.methods import vector\n",
      "/usr/local/venv/lib/python3.10/site-packages/coffea/nanoevents/schemas/nanoaod.py:264: RuntimeWarning: Missing cross-reference index for LowPtElectron_electronIdx => Electron\n",
      "  warnings.warn(\n",
      "/usr/local/venv/lib/python3.10/site-packages/coffea/nanoevents/schemas/nanoaod.py:264: RuntimeWarning: Missing cross-reference index for LowPtElectron_photonIdx => Photon\n",
      "  warnings.warn(\n"
     ]
    },
    {
     "name": "stdout",
     "output_type": "stream",
     "text": [
      "Number of events =  2147195\n"
     ]
    }
   ],
   "source": [
    "import awkward as ak\n",
    "from coffea.nanoevents import NanoEventsFactory, NanoAODSchema\n",
    "\n",
    "#fname = \"root://eospublic.cern.ch//eos/opendata/cms/Run2016H/DoubleMuon/NANOAOD/UL2016_MiniAODv2_NanoAODv9-v1/2510000/127C2975-1B1C-A046-AABF-62B77E757A86.root\"\n",
    "fname = \"file:/opendata_cms/DoubleMuon/Run2016H-UL2016_MiniAODv2_NanoAODv9-v1/NANOAOD/127C2975-1B1C-A046-AABF-62B77E757A86.root\"\n",
    "events = NanoEventsFactory.from_root(\n",
    "    {fname: \"Events\"},\n",
    "    schemaclass=NanoAODSchema,\n",
    "    metadata={\"dataset\": \"DoubleMuon\"},\n",
    ").events()\n",
    "\n",
    "print(\"Number of events = \", ak.num(events.Muon, axis=0).compute())"
   ]
  },
  {
   "cell_type": "code",
   "execution_count": 2,
   "id": "5d14bff8-5971-4865-8b96-84ad73872a61",
   "metadata": {},
   "outputs": [
    {
     "name": "stdout",
     "output_type": "stream",
     "text": [
      "Number of muons =  4806013\n"
     ]
    }
   ],
   "source": [
    "print(\"Number of muons = \", ak.count(events.Muon.mass, axis=None).compute())"
   ]
  },
  {
   "cell_type": "code",
   "execution_count": 3,
   "id": "54b21cbc-ac2c-4913-a4ae-ba1e5839a621",
   "metadata": {},
   "outputs": [
    {
     "name": "stdout",
     "output_type": "stream",
     "text": [
      "Number of selected muons after isGlobal==1:  4110800\n"
     ]
    }
   ],
   "source": [
    "selected_muons = events.Muon[(events.Muon.isGlobal == 1)]\n",
    "print(\"Number of selected muons after isGlobal==1: \", ak.count(selected_muons.mass, axis=None).compute())"
   ]
  },
  {
   "cell_type": "code",
   "execution_count": 4,
   "id": "1f3e24ce-4359-4f49-a564-c83aff818980",
   "metadata": {},
   "outputs": [
    {
     "name": "stdout",
     "output_type": "stream",
     "text": [
      "Number of selected muons after nStations>0:  3936437\n"
     ]
    }
   ],
   "source": [
    "selected_muons = selected_muons[(selected_muons.nStations > 0)]\n",
    "print(\"Number of selected muons after nStations>0: \", ak.count(selected_muons.mass, axis=None).compute())"
   ]
  },
  {
   "cell_type": "code",
   "execution_count": 5,
   "id": "b69173dc-99be-4559-91c5-9276337d6f11",
   "metadata": {},
   "outputs": [
    {
     "name": "stdout",
     "output_type": "stream",
     "text": [
      "Number of selected muons after nTrackerLayers>5:  3908889\n"
     ]
    }
   ],
   "source": [
    "selected_muons = selected_muons[(selected_muons.nTrackerLayers > 5)]\n",
    "print(\"Number of selected muons after nTrackerLayers>5: \", ak.count(selected_muons.mass, axis=None).compute())"
   ]
  },
  {
   "cell_type": "code",
   "execution_count": 6,
   "id": "bfa44cab-782f-4991-8dde-8d73f285bba5",
   "metadata": {},
   "outputs": [
    {
     "name": "stdout",
     "output_type": "stream",
     "text": [
      "Number of selected muons after PV impact param sel:  3892547\n"
     ]
    }
   ],
   "source": [
    "selected_muons = selected_muons[(selected_muons.dxy < 0.3) & (selected_muons.dz < 20.0)]\n",
    "print(\"Number of selected muons after PV impact param sel: \", ak.count(selected_muons.mass, axis=None).compute())       "
   ]
  },
  {
   "cell_type": "code",
   "execution_count": 7,
   "id": "9aead1b7-532c-4120-bcf1-e8ef51f05656",
   "metadata": {},
   "outputs": [
    {
     "name": "stdout",
     "output_type": "stream",
     "text": [
      "Number of selected muons after pt,eta sel:  3883500\n"
     ]
    }
   ],
   "source": [
    "selected_muons = selected_muons[(selected_muons.pt > 3.0) & (abs(selected_muons.eta) < 2.4)]\n",
    "print(\"Number of selected muons after pt,eta sel: \", ak.count(selected_muons.mass, axis=None).compute())"
   ]
  },
  {
   "cell_type": "code",
   "execution_count": 8,
   "id": "49d27576-8b67-49ef-87af-e95cd440b94f",
   "metadata": {},
   "outputs": [
    {
     "name": "stdout",
     "output_type": "stream",
     "text": [
      "Number of selected muons after ptcone30 isolation:  2681124\n"
     ]
    }
   ],
   "source": [
    "selected_muons = selected_muons[(selected_muons.pfRelIso03_chg < 0.5)]\n",
    "print(\"Number of selected muons after ptcone30 isolation: \", ak.count(selected_muons.mass, axis=None).compute())"
   ]
  },
  {
   "cell_type": "code",
   "execution_count": 9,
   "id": "a9e45eb0-ea24-48be-a39a-fadd65b232e7",
   "metadata": {},
   "outputs": [],
   "source": [
    "selected_muons_c = selected_muons.compute()"
   ]
  },
  {
   "cell_type": "code",
   "execution_count": 10,
   "id": "093d30a3-ac24-498d-890f-a05942a0b0e2",
   "metadata": {},
   "outputs": [],
   "source": [
    "def find_4lep(events_leptons, builder):\n",
    "    \"\"\"Search for valid 4-lepton combinations from an array of events * leptons {charge, ...}\n",
    "\n",
    "    A valid candidate has two pairs of leptons that each have balanced charge\n",
    "    Outputs an array of events * candidates {indices 0..3} corresponding to all valid\n",
    "    permutations of all valid combinations of unique leptons in each event\n",
    "    (omitting permutations of the pairs)\n",
    "    \"\"\"\n",
    "    for leptons in events_leptons:\n",
    "        builder.begin_list()\n",
    "        nlep = len(leptons)\n",
    "        for i0 in range(nlep):\n",
    "            for i1 in range(i0 + 1, nlep):\n",
    "                if leptons[i0].charge + leptons[i1].charge != 0:\n",
    "                    continue\n",
    "                for i2 in range(nlep):\n",
    "                    for i3 in range(i2 + 1, nlep):\n",
    "                        if len({i0, i1, i2, i3}) < 4:\n",
    "                            continue\n",
    "                        if leptons[i2].charge + leptons[i3].charge != 0:\n",
    "                            continue\n",
    "                        builder.begin_tuple(4)\n",
    "                        builder.index(0).integer(i0)\n",
    "                        builder.index(1).integer(i1)\n",
    "                        builder.index(2).integer(i2)\n",
    "                        builder.index(3).integer(i3)\n",
    "                        builder.end_tuple()\n",
    "        builder.end_list()\n",
    "\n",
    "    return builder\n"
   ]
  },
  {
   "cell_type": "code",
   "execution_count": 11,
   "id": "53cf69ff-b13b-47a5-8238-673a821f118c",
   "metadata": {},
   "outputs": [
    {
     "name": "stdout",
     "output_type": "stream",
     "text": [
      "[[], [], [], [], [], [], [], [], [], ..., [], [], [], [], [], [], [], [], []]\n"
     ]
    }
   ],
   "source": [
    "fourmuon = find_4lep(selected_muons_c, ak.ArrayBuilder()).snapshot()\n",
    "if ak.all(ak.num(fourmuon) == 0):\n",
    "  print(\"No four muons at all!\")\n",
    "\n",
    "fourmuon = [selected_muons_c[fourmuon[idx]] for idx in \"0123\"]\n",
    "fourmuon = ak.zip({\n",
    "  \"z1\": ak.zip({\n",
    "    \"lep1\": fourmuon[0],\n",
    "    \"lep2\": fourmuon[1],\n",
    "    \"p4\": fourmuon[0] + fourmuon[1],\n",
    "  }),\n",
    "  \"z2\": ak.zip({\n",
    "    \"lep1\": fourmuon[2],\n",
    "    \"lep2\": fourmuon[3],\n",
    "    \"p4\": fourmuon[2] + fourmuon[3],\n",
    "  }),\n",
    "})\n",
    "\n",
    "print(fourmuon)"
   ]
  },
  {
   "cell_type": "code",
   "execution_count": 12,
   "id": "bf253f44-0552-402b-9fd0-6dca33bc19a4",
   "metadata": {},
   "outputs": [
    {
     "name": "stdout",
     "output_type": "stream",
     "text": [
      "Events with at least 1 candidate:  2996\n"
     ]
    }
   ],
   "source": [
    "print('Events with at least 1 candidate: ', ak.sum(ak.num(fourmuon) > 0))"
   ]
  },
  {
   "cell_type": "code",
   "execution_count": 13,
   "id": "3611b6f5-941e-4680-b317-02bfd1a14e0b",
   "metadata": {},
   "outputs": [
    {
     "name": "stdout",
     "output_type": "stream",
     "text": [
      "[[{z1: {lep1: {...}, ...}, z2: {lep1: ..., ...}}, ..., {z1: {...}, ...}], ...]\n"
     ]
    }
   ],
   "source": [
    "print(fourmuon[(ak.num(fourmuon) > 0)])"
   ]
  },
  {
   "cell_type": "code",
   "execution_count": 14,
   "id": "bd793ec0-dfdf-4069-be21-f41c4d16d75a",
   "metadata": {},
   "outputs": [
    {
     "name": "stdout",
     "output_type": "stream",
     "text": [
      "[-0.00269, -0.00269, 0.00329, -0.0329]\n",
      "[-2.22, -2.38, -2.26, -2.26]\n",
      "[3.86, 6.05, 0.518, 7.6]\n",
      "[7.6, 0.518, 6.05, 3.86]\n"
     ]
    }
   ],
   "source": [
    "x=fourmuon[(ak.num(fourmuon) > 0)][0]\n",
    "print(x.z1.lep1.dxy)\n",
    "print(x.z1.lep2.dz)\n",
    "print(x.z1.p4.mass)\n",
    "print(x.z2.p4.mass)"
   ]
  },
  {
   "cell_type": "code",
   "execution_count": 16,
   "id": "5c90a4ff-4799-47c7-87d4-30a1029de672",
   "metadata": {},
   "outputs": [
    {
     "ename": "ValueError",
     "evalue": "cannot convert to RegularArray because subarray lengths are not regular (in compiled code: https://github.com/scikit-hep/awkward/blob/awkward-cpp-42/awkward-cpp/src/cpu-kernels/awkward_ListOffsetArray_toRegularArray.cpp#L22)\n\nThis error occurred while calling\n\n    numpy.asarray(\n        <Array [[], [], [], [], ..., [], [], []] type='2147195 * var * float32'>\n        dtype = None\n    )",
     "output_type": "error",
     "traceback": [
      "\u001b[0;31m---------------------------------------------------------------------------\u001b[0m",
      "\u001b[0;31mValueError\u001b[0m                                Traceback (most recent call last)",
      "File \u001b[0;32m/usr/local/venv/lib/python3.10/site-packages/awkward/highlevel.py:1517\u001b[0m, in \u001b[0;36mArray.__array__\u001b[0;34m(self, dtype)\u001b[0m\n\u001b[1;32m   1515\u001b[0m \u001b[38;5;28;01mfrom\u001b[39;00m \u001b[38;5;21;01mawkward\u001b[39;00m\u001b[38;5;21;01m.\u001b[39;00m\u001b[38;5;21;01m_connect\u001b[39;00m\u001b[38;5;21;01m.\u001b[39;00m\u001b[38;5;21;01mnumpy\u001b[39;00m \u001b[38;5;28;01mimport\u001b[39;00m convert_to_array\n\u001b[0;32m-> 1517\u001b[0m \u001b[38;5;28;01mreturn\u001b[39;00m \u001b[43mconvert_to_array\u001b[49m\u001b[43m(\u001b[49m\u001b[38;5;28;43mself\u001b[39;49m\u001b[38;5;241;43m.\u001b[39;49m\u001b[43m_layout\u001b[49m\u001b[43m,\u001b[49m\u001b[43m \u001b[49m\u001b[43mdtype\u001b[49m\u001b[38;5;241;43m=\u001b[39;49m\u001b[43mdtype\u001b[49m\u001b[43m)\u001b[49m\n",
      "File \u001b[0;32m/usr/local/venv/lib/python3.10/site-packages/awkward/_connect/numpy.py:511\u001b[0m, in \u001b[0;36mconvert_to_array\u001b[0;34m(layout, dtype)\u001b[0m\n\u001b[1;32m    510\u001b[0m \u001b[38;5;28;01mdef\u001b[39;00m \u001b[38;5;21mconvert_to_array\u001b[39m(layout, dtype\u001b[38;5;241m=\u001b[39m\u001b[38;5;28;01mNone\u001b[39;00m):\n\u001b[0;32m--> 511\u001b[0m     out \u001b[38;5;241m=\u001b[39m \u001b[43mak\u001b[49m\u001b[38;5;241;43m.\u001b[39;49m\u001b[43moperations\u001b[49m\u001b[38;5;241;43m.\u001b[39;49m\u001b[43mto_numpy\u001b[49m\u001b[43m(\u001b[49m\u001b[43mlayout\u001b[49m\u001b[43m,\u001b[49m\u001b[43m \u001b[49m\u001b[43mallow_missing\u001b[49m\u001b[38;5;241;43m=\u001b[39;49m\u001b[38;5;28;43;01mFalse\u001b[39;49;00m\u001b[43m)\u001b[49m\n\u001b[1;32m    512\u001b[0m     \u001b[38;5;28;01mif\u001b[39;00m dtype \u001b[38;5;129;01mis\u001b[39;00m \u001b[38;5;28;01mNone\u001b[39;00m:\n",
      "File \u001b[0;32m/usr/local/venv/lib/python3.10/site-packages/awkward/_dispatch.py:64\u001b[0m, in \u001b[0;36mnamed_high_level_function.<locals>.dispatch\u001b[0;34m(*args, **kwargs)\u001b[0m\n\u001b[1;32m     63\u001b[0m \u001b[38;5;28;01mtry\u001b[39;00m:\n\u001b[0;32m---> 64\u001b[0m     \u001b[38;5;28;43mnext\u001b[39;49m\u001b[43m(\u001b[49m\u001b[43mgen_or_result\u001b[49m\u001b[43m)\u001b[49m\n\u001b[1;32m     65\u001b[0m \u001b[38;5;28;01mexcept\u001b[39;00m \u001b[38;5;167;01mStopIteration\u001b[39;00m \u001b[38;5;28;01mas\u001b[39;00m err:\n",
      "File \u001b[0;32m/usr/local/venv/lib/python3.10/site-packages/awkward/operations/ak_to_numpy.py:48\u001b[0m, in \u001b[0;36mto_numpy\u001b[0;34m(array, allow_missing)\u001b[0m\n\u001b[1;32m     47\u001b[0m \u001b[38;5;66;03m# Implementation\u001b[39;00m\n\u001b[0;32m---> 48\u001b[0m \u001b[38;5;28;01mreturn\u001b[39;00m \u001b[43m_impl\u001b[49m\u001b[43m(\u001b[49m\u001b[43marray\u001b[49m\u001b[43m,\u001b[49m\u001b[43m \u001b[49m\u001b[43mallow_missing\u001b[49m\u001b[43m)\u001b[49m\n",
      "File \u001b[0;32m/usr/local/venv/lib/python3.10/site-packages/awkward/operations/ak_to_numpy.py:60\u001b[0m, in \u001b[0;36m_impl\u001b[0;34m(array, allow_missing)\u001b[0m\n\u001b[1;32m     58\u001b[0m numpy_layout \u001b[38;5;241m=\u001b[39m layout\u001b[38;5;241m.\u001b[39mto_backend(backend)\n\u001b[0;32m---> 60\u001b[0m \u001b[38;5;28;01mreturn\u001b[39;00m \u001b[43mnumpy_layout\u001b[49m\u001b[38;5;241;43m.\u001b[39;49m\u001b[43mto_backend_array\u001b[49m\u001b[43m(\u001b[49m\u001b[43mallow_missing\u001b[49m\u001b[38;5;241;43m=\u001b[39;49m\u001b[43mallow_missing\u001b[49m\u001b[43m)\u001b[49m\n",
      "File \u001b[0;32m/usr/local/venv/lib/python3.10/site-packages/awkward/contents/content.py:1112\u001b[0m, in \u001b[0;36mContent.to_backend_array\u001b[0;34m(self, allow_missing, backend)\u001b[0m\n\u001b[1;32m   1111\u001b[0m     backend \u001b[38;5;241m=\u001b[39m regularize_backend(backend)\n\u001b[0;32m-> 1112\u001b[0m \u001b[38;5;28;01mreturn\u001b[39;00m \u001b[38;5;28;43mself\u001b[39;49m\u001b[38;5;241;43m.\u001b[39;49m\u001b[43m_to_backend_array\u001b[49m\u001b[43m(\u001b[49m\u001b[43mallow_missing\u001b[49m\u001b[43m,\u001b[49m\u001b[43m \u001b[49m\u001b[43mbackend\u001b[49m\u001b[43m)\u001b[49m\n",
      "File \u001b[0;32m/usr/local/venv/lib/python3.10/site-packages/awkward/contents/listoffsetarray.py:2106\u001b[0m, in \u001b[0;36mListOffsetArray._to_backend_array\u001b[0;34m(self, allow_missing, backend)\u001b[0m\n\u001b[1;32m   2105\u001b[0m \u001b[38;5;28;01melse\u001b[39;00m:\n\u001b[0;32m-> 2106\u001b[0m     \u001b[38;5;28;01mreturn\u001b[39;00m \u001b[38;5;28;43mself\u001b[39;49m\u001b[38;5;241;43m.\u001b[39;49m\u001b[43mto_RegularArray\u001b[49m\u001b[43m(\u001b[49m\u001b[43m)\u001b[49m\u001b[38;5;241m.\u001b[39m_to_backend_array(allow_missing, backend)\n",
      "File \u001b[0;32m/usr/local/venv/lib/python3.10/site-packages/awkward/contents/listoffsetarray.py:284\u001b[0m, in \u001b[0;36mListOffsetArray.to_RegularArray\u001b[0;34m(self)\u001b[0m\n\u001b[1;32m    280\u001b[0m \u001b[38;5;28;01massert\u001b[39;00m (\n\u001b[1;32m    281\u001b[0m     _size\u001b[38;5;241m.\u001b[39mnplike \u001b[38;5;129;01mis\u001b[39;00m \u001b[38;5;28mself\u001b[39m\u001b[38;5;241m.\u001b[39m_backend\u001b[38;5;241m.\u001b[39mindex_nplike\n\u001b[1;32m    282\u001b[0m     \u001b[38;5;129;01mand\u001b[39;00m \u001b[38;5;28mself\u001b[39m\u001b[38;5;241m.\u001b[39m_offsets\u001b[38;5;241m.\u001b[39mnplike \u001b[38;5;129;01mis\u001b[39;00m \u001b[38;5;28mself\u001b[39m\u001b[38;5;241m.\u001b[39m_backend\u001b[38;5;241m.\u001b[39mindex_nplike\n\u001b[1;32m    283\u001b[0m )\n\u001b[0;32m--> 284\u001b[0m \u001b[38;5;28;43mself\u001b[39;49m\u001b[38;5;241;43m.\u001b[39;49m\u001b[43m_backend\u001b[49m\u001b[38;5;241;43m.\u001b[39;49m\u001b[43mmaybe_kernel_error\u001b[49m\u001b[43m(\u001b[49m\n\u001b[1;32m    285\u001b[0m \u001b[43m    \u001b[49m\u001b[38;5;28;43mself\u001b[39;49m\u001b[38;5;241;43m.\u001b[39;49m\u001b[43m_backend\u001b[49m\u001b[43m[\u001b[49m\n\u001b[1;32m    286\u001b[0m \u001b[43m        \u001b[49m\u001b[38;5;124;43m\"\u001b[39;49m\u001b[38;5;124;43mawkward_ListOffsetArray_toRegularArray\u001b[39;49m\u001b[38;5;124;43m\"\u001b[39;49m\u001b[43m,\u001b[49m\n\u001b[1;32m    287\u001b[0m \u001b[43m        \u001b[49m\u001b[43m_size\u001b[49m\u001b[38;5;241;43m.\u001b[39;49m\u001b[43mdtype\u001b[49m\u001b[38;5;241;43m.\u001b[39;49m\u001b[43mtype\u001b[49m\u001b[43m,\u001b[49m\n\u001b[1;32m    288\u001b[0m \u001b[43m        \u001b[49m\u001b[38;5;28;43mself\u001b[39;49m\u001b[38;5;241;43m.\u001b[39;49m\u001b[43m_offsets\u001b[49m\u001b[38;5;241;43m.\u001b[39;49m\u001b[43mdtype\u001b[49m\u001b[38;5;241;43m.\u001b[39;49m\u001b[43mtype\u001b[49m\u001b[43m,\u001b[49m\n\u001b[1;32m    289\u001b[0m \u001b[43m    \u001b[49m\u001b[43m]\u001b[49m\u001b[43m(\u001b[49m\n\u001b[1;32m    290\u001b[0m \u001b[43m        \u001b[49m\u001b[43m_size\u001b[49m\u001b[38;5;241;43m.\u001b[39;49m\u001b[43mdata\u001b[49m\u001b[43m,\u001b[49m\n\u001b[1;32m    291\u001b[0m \u001b[43m        \u001b[49m\u001b[38;5;28;43mself\u001b[39;49m\u001b[38;5;241;43m.\u001b[39;49m\u001b[43m_offsets\u001b[49m\u001b[38;5;241;43m.\u001b[39;49m\u001b[43mdata\u001b[49m\u001b[43m,\u001b[49m\n\u001b[1;32m    292\u001b[0m \u001b[43m        \u001b[49m\u001b[38;5;28;43mself\u001b[39;49m\u001b[38;5;241;43m.\u001b[39;49m\u001b[43m_offsets\u001b[49m\u001b[38;5;241;43m.\u001b[39;49m\u001b[43mlength\u001b[49m\u001b[43m,\u001b[49m\n\u001b[1;32m    293\u001b[0m \u001b[43m    \u001b[49m\u001b[43m)\u001b[49m\n\u001b[1;32m    294\u001b[0m \u001b[43m\u001b[49m\u001b[43m)\u001b[49m\n\u001b[1;32m    295\u001b[0m size \u001b[38;5;241m=\u001b[39m \u001b[38;5;28mself\u001b[39m\u001b[38;5;241m.\u001b[39m_backend\u001b[38;5;241m.\u001b[39mindex_nplike\u001b[38;5;241m.\u001b[39mindex_as_shape_item(_size[\u001b[38;5;241m0\u001b[39m])\n",
      "File \u001b[0;32m/usr/local/venv/lib/python3.10/site-packages/awkward/_backends/backend.py:67\u001b[0m, in \u001b[0;36mBackend.maybe_kernel_error\u001b[0;34m(self, error)\u001b[0m\n\u001b[1;32m     66\u001b[0m \u001b[38;5;28;01melse\u001b[39;00m:\n\u001b[0;32m---> 67\u001b[0m     \u001b[38;5;28;01mraise\u001b[39;00m \u001b[38;5;167;01mValueError\u001b[39;00m(\u001b[38;5;28mself\u001b[39m\u001b[38;5;241m.\u001b[39mformat_kernel_error(error))\n",
      "\u001b[0;31mValueError\u001b[0m: cannot convert to RegularArray because subarray lengths are not regular (in compiled code: https://github.com/scikit-hep/awkward/blob/awkward-cpp-42/awkward-cpp/src/cpu-kernels/awkward_ListOffsetArray_toRegularArray.cpp#L22)",
      "\nThe above exception was the direct cause of the following exception:\n",
      "\u001b[0;31mValueError\u001b[0m                                Traceback (most recent call last)",
      "Input \u001b[0;32mIn [16]\u001b[0m, in \u001b[0;36m<cell line: 6>\u001b[0;34m()\u001b[0m\n\u001b[1;32m      4\u001b[0m h_z1 \u001b[38;5;241m=\u001b[39m hist\u001b[38;5;241m.\u001b[39mHist\u001b[38;5;241m.\u001b[39mnew\u001b[38;5;241m.\u001b[39mReg(\u001b[38;5;241m1000\u001b[39m, \u001b[38;5;241m0\u001b[39m, \u001b[38;5;241m200\u001b[39m, name\u001b[38;5;241m=\u001b[39m\u001b[38;5;124m\"\u001b[39m\u001b[38;5;124mm_Z1\u001b[39m\u001b[38;5;124m\"\u001b[39m, label\u001b[38;5;241m=\u001b[39m\u001b[38;5;124m\"\u001b[39m\u001b[38;5;124mm_Z1 [GeV]\u001b[39m\u001b[38;5;124m\"\u001b[39m)\u001b[38;5;241m.\u001b[39mWeight()\n\u001b[1;32m      5\u001b[0m h_z2 \u001b[38;5;241m=\u001b[39m hist\u001b[38;5;241m.\u001b[39mHist\u001b[38;5;241m.\u001b[39mnew\u001b[38;5;241m.\u001b[39mReg(\u001b[38;5;241m1000\u001b[39m, \u001b[38;5;241m0\u001b[39m, \u001b[38;5;241m200\u001b[39m, name\u001b[38;5;241m=\u001b[39m\u001b[38;5;124m\"\u001b[39m\u001b[38;5;124mm_Z2\u001b[39m\u001b[38;5;124m\"\u001b[39m, label\u001b[38;5;241m=\u001b[39m\u001b[38;5;124m\"\u001b[39m\u001b[38;5;124mm_Z2 [GeV]\u001b[39m\u001b[38;5;124m\"\u001b[39m)\u001b[38;5;241m.\u001b[39mWeight()\n\u001b[0;32m----> 6\u001b[0m \u001b[43mh_z1\u001b[49m\u001b[38;5;241;43m.\u001b[39;49m\u001b[43mfill\u001b[49m\u001b[43m(\u001b[49m\u001b[43mm_Z1\u001b[49m\u001b[38;5;241;43m=\u001b[39;49m\u001b[43mfourmuon\u001b[49m\u001b[38;5;241;43m.\u001b[39;49m\u001b[43mz1\u001b[49m\u001b[38;5;241;43m.\u001b[39;49m\u001b[43mp4\u001b[49m\u001b[38;5;241;43m.\u001b[39;49m\u001b[43mmass\u001b[49m\u001b[43m)\u001b[49m\n\u001b[1;32m      7\u001b[0m h_z2\u001b[38;5;241m.\u001b[39mfill(m_Z2\u001b[38;5;241m=\u001b[39mfourmuon\u001b[38;5;241m.\u001b[39mz2\u001b[38;5;241m.\u001b[39mp4\u001b[38;5;241m.\u001b[39mmass)\n",
      "File \u001b[0;32m/usr/local/venv/lib/python3.10/site-packages/hist/basehist.py:246\u001b[0m, in \u001b[0;36mBaseHist.fill\u001b[0;34m(self, weight, sample, threads, *args, **kwargs)\u001b[0m\n\u001b[1;32m    240\u001b[0m     \u001b[38;5;28;01mraise\u001b[39;00m \u001b[38;5;167;01mTypeError\u001b[39;00m(\n\u001b[1;32m    241\u001b[0m         \u001b[38;5;124m\"\u001b[39m\u001b[38;5;124mAll axes must be accounted for in fill, you may have used a disallowed name in the axes\u001b[39m\u001b[38;5;124m\"\u001b[39m\n\u001b[1;32m    242\u001b[0m     )\n\u001b[1;32m    244\u001b[0m data \u001b[38;5;241m=\u001b[39m (data_dict[i] \u001b[38;5;28;01mfor\u001b[39;00m i \u001b[38;5;129;01min\u001b[39;00m \u001b[38;5;28mrange\u001b[39m(\u001b[38;5;28mlen\u001b[39m(args), \u001b[38;5;28mself\u001b[39m\u001b[38;5;241m.\u001b[39mndim))\n\u001b[0;32m--> 246\u001b[0m \u001b[38;5;28;01mreturn\u001b[39;00m \u001b[38;5;28;43msuper\u001b[39;49m\u001b[43m(\u001b[49m\u001b[43m)\u001b[49m\u001b[38;5;241;43m.\u001b[39;49m\u001b[43mfill\u001b[49m\u001b[43m(\u001b[49m\u001b[38;5;241;43m*\u001b[39;49m\u001b[43margs\u001b[49m\u001b[43m,\u001b[49m\u001b[43m \u001b[49m\u001b[38;5;241;43m*\u001b[39;49m\u001b[43mdata\u001b[49m\u001b[43m,\u001b[49m\u001b[43m \u001b[49m\u001b[43mweight\u001b[49m\u001b[38;5;241;43m=\u001b[39;49m\u001b[43mweight\u001b[49m\u001b[43m,\u001b[49m\u001b[43m \u001b[49m\u001b[43msample\u001b[49m\u001b[38;5;241;43m=\u001b[39;49m\u001b[43msample\u001b[49m\u001b[43m,\u001b[49m\u001b[43m \u001b[49m\u001b[43mthreads\u001b[49m\u001b[38;5;241;43m=\u001b[39;49m\u001b[43mthreads\u001b[49m\u001b[43m)\u001b[49m\n",
      "File \u001b[0;32m/usr/local/venv/lib/python3.10/site-packages/boost_histogram/_internal/hist.py:496\u001b[0m, in \u001b[0;36mHistogram.fill\u001b[0;34m(self, weight, sample, threads, *args)\u001b[0m\n\u001b[1;32m    493\u001b[0m     \u001b[38;5;28mself\u001b[39m\u001b[38;5;241m.\u001b[39m_variance_known \u001b[38;5;241m=\u001b[39m \u001b[38;5;28;01mFalse\u001b[39;00m\n\u001b[1;32m    495\u001b[0m \u001b[38;5;66;03m# Convert to NumPy arrays\u001b[39;00m\n\u001b[0;32m--> 496\u001b[0m args_ars \u001b[38;5;241m=\u001b[39m \u001b[43m_fill_cast\u001b[49m\u001b[43m(\u001b[49m\u001b[43margs\u001b[49m\u001b[43m)\u001b[49m\n\u001b[1;32m    497\u001b[0m weight_ars \u001b[38;5;241m=\u001b[39m _fill_cast(weight)\n\u001b[1;32m    498\u001b[0m sample_ars \u001b[38;5;241m=\u001b[39m _fill_cast(sample)\n",
      "File \u001b[0;32m/usr/local/venv/lib/python3.10/site-packages/boost_histogram/_internal/hist.py:78\u001b[0m, in \u001b[0;36m_fill_cast\u001b[0;34m(value, inner)\u001b[0m\n\u001b[1;32m     75\u001b[0m     \u001b[38;5;28;01mreturn\u001b[39;00m value  \u001b[38;5;66;03m# type: ignore[return-value]\u001b[39;00m\n\u001b[1;32m     77\u001b[0m \u001b[38;5;28;01mif\u001b[39;00m \u001b[38;5;129;01mnot\u001b[39;00m inner \u001b[38;5;129;01mand\u001b[39;00m \u001b[38;5;28misinstance\u001b[39m(value, (\u001b[38;5;28mtuple\u001b[39m, \u001b[38;5;28mlist\u001b[39m)):\n\u001b[0;32m---> 78\u001b[0m     \u001b[38;5;28;01mreturn\u001b[39;00m \u001b[38;5;28;43mtuple\u001b[39;49m\u001b[43m(\u001b[49m\u001b[43m_fill_cast\u001b[49m\u001b[43m(\u001b[49m\u001b[43ma\u001b[49m\u001b[43m,\u001b[49m\u001b[43m \u001b[49m\u001b[43minner\u001b[49m\u001b[38;5;241;43m=\u001b[39;49m\u001b[38;5;28;43;01mTrue\u001b[39;49;00m\u001b[43m)\u001b[49m\u001b[43m \u001b[49m\u001b[38;5;28;43;01mfor\u001b[39;49;00m\u001b[43m \u001b[49m\u001b[43ma\u001b[49m\u001b[43m \u001b[49m\u001b[38;5;129;43;01min\u001b[39;49;00m\u001b[43m \u001b[49m\u001b[43mvalue\u001b[49m\u001b[43m)\u001b[49m  \u001b[38;5;66;03m# type: ignore[misc]\u001b[39;00m\n\u001b[1;32m     80\u001b[0m \u001b[38;5;28;01mif\u001b[39;00m \u001b[38;5;28mhasattr\u001b[39m(value, \u001b[38;5;124m\"\u001b[39m\u001b[38;5;124m__iter__\u001b[39m\u001b[38;5;124m\"\u001b[39m) \u001b[38;5;129;01mor\u001b[39;00m \u001b[38;5;28mhasattr\u001b[39m(value, \u001b[38;5;124m\"\u001b[39m\u001b[38;5;124m__array__\u001b[39m\u001b[38;5;124m\"\u001b[39m):\n\u001b[1;32m     81\u001b[0m     \u001b[38;5;28;01mreturn\u001b[39;00m np\u001b[38;5;241m.\u001b[39masarray(value)\n",
      "File \u001b[0;32m/usr/local/venv/lib/python3.10/site-packages/boost_histogram/_internal/hist.py:78\u001b[0m, in \u001b[0;36m<genexpr>\u001b[0;34m(.0)\u001b[0m\n\u001b[1;32m     75\u001b[0m     \u001b[38;5;28;01mreturn\u001b[39;00m value  \u001b[38;5;66;03m# type: ignore[return-value]\u001b[39;00m\n\u001b[1;32m     77\u001b[0m \u001b[38;5;28;01mif\u001b[39;00m \u001b[38;5;129;01mnot\u001b[39;00m inner \u001b[38;5;129;01mand\u001b[39;00m \u001b[38;5;28misinstance\u001b[39m(value, (\u001b[38;5;28mtuple\u001b[39m, \u001b[38;5;28mlist\u001b[39m)):\n\u001b[0;32m---> 78\u001b[0m     \u001b[38;5;28;01mreturn\u001b[39;00m \u001b[38;5;28mtuple\u001b[39m(\u001b[43m_fill_cast\u001b[49m\u001b[43m(\u001b[49m\u001b[43ma\u001b[49m\u001b[43m,\u001b[49m\u001b[43m \u001b[49m\u001b[43minner\u001b[49m\u001b[38;5;241;43m=\u001b[39;49m\u001b[38;5;28;43;01mTrue\u001b[39;49;00m\u001b[43m)\u001b[49m \u001b[38;5;28;01mfor\u001b[39;00m a \u001b[38;5;129;01min\u001b[39;00m value)  \u001b[38;5;66;03m# type: ignore[misc]\u001b[39;00m\n\u001b[1;32m     80\u001b[0m \u001b[38;5;28;01mif\u001b[39;00m \u001b[38;5;28mhasattr\u001b[39m(value, \u001b[38;5;124m\"\u001b[39m\u001b[38;5;124m__iter__\u001b[39m\u001b[38;5;124m\"\u001b[39m) \u001b[38;5;129;01mor\u001b[39;00m \u001b[38;5;28mhasattr\u001b[39m(value, \u001b[38;5;124m\"\u001b[39m\u001b[38;5;124m__array__\u001b[39m\u001b[38;5;124m\"\u001b[39m):\n\u001b[1;32m     81\u001b[0m     \u001b[38;5;28;01mreturn\u001b[39;00m np\u001b[38;5;241m.\u001b[39masarray(value)\n",
      "File \u001b[0;32m/usr/local/venv/lib/python3.10/site-packages/boost_histogram/_internal/hist.py:81\u001b[0m, in \u001b[0;36m_fill_cast\u001b[0;34m(value, inner)\u001b[0m\n\u001b[1;32m     78\u001b[0m     \u001b[38;5;28;01mreturn\u001b[39;00m \u001b[38;5;28mtuple\u001b[39m(_fill_cast(a, inner\u001b[38;5;241m=\u001b[39m\u001b[38;5;28;01mTrue\u001b[39;00m) \u001b[38;5;28;01mfor\u001b[39;00m a \u001b[38;5;129;01min\u001b[39;00m value)  \u001b[38;5;66;03m# type: ignore[misc]\u001b[39;00m\n\u001b[1;32m     80\u001b[0m \u001b[38;5;28;01mif\u001b[39;00m \u001b[38;5;28mhasattr\u001b[39m(value, \u001b[38;5;124m\"\u001b[39m\u001b[38;5;124m__iter__\u001b[39m\u001b[38;5;124m\"\u001b[39m) \u001b[38;5;129;01mor\u001b[39;00m \u001b[38;5;28mhasattr\u001b[39m(value, \u001b[38;5;124m\"\u001b[39m\u001b[38;5;124m__array__\u001b[39m\u001b[38;5;124m\"\u001b[39m):\n\u001b[0;32m---> 81\u001b[0m     \u001b[38;5;28;01mreturn\u001b[39;00m \u001b[43mnp\u001b[49m\u001b[38;5;241;43m.\u001b[39;49m\u001b[43masarray\u001b[49m\u001b[43m(\u001b[49m\u001b[43mvalue\u001b[49m\u001b[43m)\u001b[49m\n\u001b[1;32m     83\u001b[0m \u001b[38;5;28;01mreturn\u001b[39;00m value\n",
      "File \u001b[0;32m/usr/local/venv/lib/python3.10/site-packages/awkward/highlevel.py:1512\u001b[0m, in \u001b[0;36mArray.__array__\u001b[0;34m(self, dtype)\u001b[0m\n\u001b[1;32m   1487\u001b[0m \u001b[38;5;28;01mdef\u001b[39;00m \u001b[38;5;21m__array__\u001b[39m(\u001b[38;5;28mself\u001b[39m, dtype\u001b[38;5;241m=\u001b[39m\u001b[38;5;28;01mNone\u001b[39;00m):\n\u001b[1;32m   1488\u001b[0m \u001b[38;5;250m    \u001b[39m\u001b[38;5;124;03m\"\"\"\u001b[39;00m\n\u001b[1;32m   1489\u001b[0m \u001b[38;5;124;03m    Intercepts attempts to convert this Array into a NumPy array and\u001b[39;00m\n\u001b[1;32m   1490\u001b[0m \u001b[38;5;124;03m    either performs a zero-copy conversion or raises an error.\u001b[39;00m\n\u001b[0;32m   (...)\u001b[0m\n\u001b[1;32m   1510\u001b[0m \u001b[38;5;124;03m    cannot be sliced as dimensions.\u001b[39;00m\n\u001b[1;32m   1511\u001b[0m \u001b[38;5;124;03m    \"\"\"\u001b[39;00m\n\u001b[0;32m-> 1512\u001b[0m     \u001b[38;5;28;01mwith\u001b[39;00m ak\u001b[38;5;241m.\u001b[39m_errors\u001b[38;5;241m.\u001b[39mOperationErrorContext(\n\u001b[1;32m   1513\u001b[0m         \u001b[38;5;124m\"\u001b[39m\u001b[38;5;124mnumpy.asarray\u001b[39m\u001b[38;5;124m\"\u001b[39m, (\u001b[38;5;28mself\u001b[39m,), {\u001b[38;5;124m\"\u001b[39m\u001b[38;5;124mdtype\u001b[39m\u001b[38;5;124m\"\u001b[39m: dtype}\n\u001b[1;32m   1514\u001b[0m     ):\n\u001b[1;32m   1515\u001b[0m         \u001b[38;5;28;01mfrom\u001b[39;00m \u001b[38;5;21;01mawkward\u001b[39;00m\u001b[38;5;21;01m.\u001b[39;00m\u001b[38;5;21;01m_connect\u001b[39;00m\u001b[38;5;21;01m.\u001b[39;00m\u001b[38;5;21;01mnumpy\u001b[39;00m \u001b[38;5;28;01mimport\u001b[39;00m convert_to_array\n\u001b[1;32m   1517\u001b[0m         \u001b[38;5;28;01mreturn\u001b[39;00m convert_to_array(\u001b[38;5;28mself\u001b[39m\u001b[38;5;241m.\u001b[39m_layout, dtype\u001b[38;5;241m=\u001b[39mdtype)\n",
      "File \u001b[0;32m/usr/local/venv/lib/python3.10/site-packages/awkward/_errors.py:85\u001b[0m, in \u001b[0;36mErrorContext.__exit__\u001b[0;34m(self, exception_type, exception_value, traceback)\u001b[0m\n\u001b[1;32m     78\u001b[0m \u001b[38;5;28;01mtry\u001b[39;00m:\n\u001b[1;32m     79\u001b[0m     \u001b[38;5;66;03m# Handle caught exception\u001b[39;00m\n\u001b[1;32m     80\u001b[0m     \u001b[38;5;28;01mif\u001b[39;00m (\n\u001b[1;32m     81\u001b[0m         exception_type \u001b[38;5;129;01mis\u001b[39;00m \u001b[38;5;129;01mnot\u001b[39;00m \u001b[38;5;28;01mNone\u001b[39;00m\n\u001b[1;32m     82\u001b[0m         \u001b[38;5;129;01mand\u001b[39;00m \u001b[38;5;28missubclass\u001b[39m(exception_type, \u001b[38;5;167;01mException\u001b[39;00m)\n\u001b[1;32m     83\u001b[0m         \u001b[38;5;129;01mand\u001b[39;00m \u001b[38;5;28mself\u001b[39m\u001b[38;5;241m.\u001b[39mprimary() \u001b[38;5;129;01mis\u001b[39;00m \u001b[38;5;28mself\u001b[39m\n\u001b[1;32m     84\u001b[0m     ):\n\u001b[0;32m---> 85\u001b[0m         \u001b[38;5;28;43mself\u001b[39;49m\u001b[38;5;241;43m.\u001b[39;49m\u001b[43mhandle_exception\u001b[49m\u001b[43m(\u001b[49m\u001b[43mexception_type\u001b[49m\u001b[43m,\u001b[49m\u001b[43m \u001b[49m\u001b[43mexception_value\u001b[49m\u001b[43m)\u001b[49m\n\u001b[1;32m     86\u001b[0m \u001b[38;5;28;01mfinally\u001b[39;00m:\n\u001b[1;32m     87\u001b[0m     \u001b[38;5;66;03m# Step out of the way so that another ErrorContext can become primary.\u001b[39;00m\n\u001b[1;32m     88\u001b[0m     \u001b[38;5;28;01mif\u001b[39;00m \u001b[38;5;28mself\u001b[39m\u001b[38;5;241m.\u001b[39mprimary() \u001b[38;5;129;01mis\u001b[39;00m \u001b[38;5;28mself\u001b[39m:\n",
      "File \u001b[0;32m/usr/local/venv/lib/python3.10/site-packages/awkward/_errors.py:95\u001b[0m, in \u001b[0;36mErrorContext.handle_exception\u001b[0;34m(self, cls, exception)\u001b[0m\n\u001b[1;32m     93\u001b[0m     \u001b[38;5;28mself\u001b[39m\u001b[38;5;241m.\u001b[39mdecorate_exception(\u001b[38;5;28mcls\u001b[39m, exception)\n\u001b[1;32m     94\u001b[0m \u001b[38;5;28;01melse\u001b[39;00m:\n\u001b[0;32m---> 95\u001b[0m     \u001b[38;5;28;01mraise\u001b[39;00m \u001b[38;5;28mself\u001b[39m\u001b[38;5;241m.\u001b[39mdecorate_exception(\u001b[38;5;28mcls\u001b[39m, exception)\n",
      "\u001b[0;31mValueError\u001b[0m: cannot convert to RegularArray because subarray lengths are not regular (in compiled code: https://github.com/scikit-hep/awkward/blob/awkward-cpp-42/awkward-cpp/src/cpu-kernels/awkward_ListOffsetArray_toRegularArray.cpp#L22)\n\nThis error occurred while calling\n\n    numpy.asarray(\n        <Array [[], [], [], [], ..., [], [], []] type='2147195 * var * float32'>\n        dtype = None\n    )"
     ]
    }
   ],
   "source": [
    "import hist\n",
    "import matplotlib.pyplot as plt   #TODO move these up\n",
    "%matplotlib inline\n",
    "h_z1 = hist.Hist.new.Reg(1000, 0, 200, name=\"m_Z1\", label=\"m_Z1 [GeV]\").Weight()\n",
    "h_z2 = hist.Hist.new.Reg(1000, 0, 200, name=\"m_Z2\", label=\"m_Z2 [GeV]\").Weight()\n",
    "h_z1.fill(m_Z1=fourmuon.z1.p4.mass)\n",
    "h_z2.fill(m_Z2=fourmuon.z2.p4.mass)"
   ]
  },
  {
   "cell_type": "code",
   "execution_count": null,
   "id": "24f6cf0b-07f7-4a01-b23c-0699d49ba344",
   "metadata": {},
   "outputs": [],
   "source": [
    "plt.figure(figsize=(16,12))\n",
    "h_z1.plot(histtype=\"fill\", linewidth=1, edgecolor=\"grey\", label='m_Z1')\n",
    "plt.legend()\n",
    "plt.title(\"m_Z1\")\n",
    "plt.xlabel(\"$m_{Z_1}$ [GeV]\");\n",
    "plt.show()"
   ]
  },
  {
   "cell_type": "code",
   "execution_count": null,
   "id": "3c5dbb86-fb76-4d2b-915c-c000559ee547",
   "metadata": {},
   "outputs": [],
   "source": [
    "plt.figure(figsize=(16,12))\n",
    "h_z2.plot(histtype=\"fill\", linewidth=1, edgecolor=\"grey\", label='m_Z2')\n",
    "plt.legend()\n",
    "plt.title(\"m_Z2\")\n",
    "plt.xlabel(\"$m_{Z_2}$ [GeV]\");\n",
    "plt.show()"
   ]
  }
 ],
 "metadata": {
  "kernelspec": {
   "display_name": "Python 3 (ipykernel)",
   "language": "python",
   "name": "python3"
  },
  "language_info": {
   "codemirror_mode": {
    "name": "ipython",
    "version": 3
   },
   "file_extension": ".py",
   "mimetype": "text/x-python",
   "name": "python",
   "nbconvert_exporter": "python",
   "pygments_lexer": "ipython3",
   "version": "3.10.5"
  }
 },
 "nbformat": 4,
 "nbformat_minor": 5
}
