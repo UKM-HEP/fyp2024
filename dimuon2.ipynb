{
 "cells": [
  {
   "cell_type": "code",
   "execution_count": 1,
   "id": "d4129869-bc12-4f75-a4f0-c33e55b0e08d",
   "metadata": {},
   "outputs": [
    {
     "name": "stderr",
     "output_type": "stream",
     "text": [
      "/usr/local/venv/lib/python3.10/site-packages/coffea/nanoevents/methods/candidate.py:11: FutureWarning: In version 2024.7.0 (target date: 2024-06-30 11:59:59-05:00), this will be an error.\n",
      "To raise these warnings as errors (and get stack traces to find out where they're called), run\n",
      "    import warnings\n",
      "    warnings.filterwarnings(\"error\", module=\"coffea.*\")\n",
      "after the first `import coffea` or use `@pytest.mark.filterwarnings(\"error:::coffea.*\")` in pytest.\n",
      "Issue: coffea.nanoevents.methods.vector will be removed and replaced with scikit-hep vector. Nanoevents schemas internal to coffea will be migrated. Otherwise please consider using that package!.\n",
      "  from coffea.nanoevents.methods import vector\n"
     ]
    },
    {
     "name": "stdout",
     "output_type": "stream",
     "text": [
      "Number of events =  2147195\n"
     ]
    }
   ],
   "source": [
    "import awkward as ak\n",
    "from coffea.nanoevents import NanoEventsFactory, NanoAODSchema\n",
    "\n",
    "fname = \"root://eospublic.cern.ch//eos/opendata/cms/Run2016H/DoubleMuon/NANOAOD/UL2016_MiniAODv2_NanoAODv9-v1/2510000/127C2975-1B1C-A046-AABF-62B77E757A86.root\"\n",
    "#fname = \"root://localhost//disk03/opendata_cms/DoubleMuon/Run2016H-UL2016_MiniAODv2_NanoAODv9-v1/NANOAOD/127C2975-1B1C-A046-AABF-62B77E757A86.root\"\n",
    "events = NanoEventsFactory.from_root(\n",
    "    {fname: \"Events\"},\n",
    "    schemaclass=NanoAODSchema,\n",
    "    metadata={\"dataset\": \"DoubleMuon\"},\n",
    ").events()\n",
    "\n",
    "print(\"Number of events = \", ak.num(events.Muon, axis=0).compute())"
   ]
  },
  {
   "cell_type": "code",
   "execution_count": 2,
   "id": "5d14bff8-5971-4865-8b96-84ad73872a61",
   "metadata": {},
   "outputs": [
    {
     "name": "stdout",
     "output_type": "stream",
     "text": [
      "Number of muons =  4806013\n"
     ]
    }
   ],
   "source": [
    "print(\"Number of muons = \", ak.count(events.Muon.mass, axis=None).compute())"
   ]
  },
  {
   "cell_type": "code",
   "execution_count": 3,
   "id": "54b21cbc-ac2c-4913-a4ae-ba1e5839a621",
   "metadata": {},
   "outputs": [
    {
     "name": "stdout",
     "output_type": "stream",
     "text": [
      "Number of selected muons after isGlobal==1:  4110800\n"
     ]
    }
   ],
   "source": [
    "selected_muons = events.Muon[(events.Muon.isGlobal == 1)]\n",
    "print(\"Number of selected muons after isGlobal==1: \", ak.count(selected_muons.mass, axis=None).compute())"
   ]
  },
  {
   "cell_type": "code",
   "execution_count": 4,
   "id": "1f3e24ce-4359-4f49-a564-c83aff818980",
   "metadata": {},
   "outputs": [
    {
     "name": "stdout",
     "output_type": "stream",
     "text": [
      "Number of selected muons after nStations>0:  3936437\n"
     ]
    }
   ],
   "source": [
    "selected_muons = selected_muons[(selected_muons.nStations > 0)]\n",
    "print(\"Number of selected muons after nStations>0: \", ak.count(selected_muons.mass, axis=None).compute())"
   ]
  },
  {
   "cell_type": "code",
   "execution_count": 5,
   "id": "b69173dc-99be-4559-91c5-9276337d6f11",
   "metadata": {},
   "outputs": [
    {
     "name": "stdout",
     "output_type": "stream",
     "text": [
      "Number of selected muons after nTrackerLayers>5:  3908889\n"
     ]
    }
   ],
   "source": [
    "selected_muons = selected_muons[(selected_muons.nTrackerLayers > 5)]\n",
    "print(\"Number of selected muons after nTrackerLayers>5: \", ak.count(selected_muons.mass, axis=None).compute())"
   ]
  },
  {
   "cell_type": "code",
   "execution_count": 6,
   "id": "bfa44cab-782f-4991-8dde-8d73f285bba5",
   "metadata": {},
   "outputs": [
    {
     "name": "stdout",
     "output_type": "stream",
     "text": [
      "Number of selected muons after PV impact param sel:  3698722\n"
     ]
    }
   ],
   "source": [
    "selected_muons = selected_muons[(selected_muons.dz < 0.3) & (selected_muons.dxy < 20.0)]\n",
    "print(\"Number of selected muons after PV impact param sel: \", ak.count(selected_muons.mass, axis=None).compute())       "
   ]
  },
  {
   "cell_type": "code",
   "execution_count": 8,
   "id": "9aead1b7-532c-4120-bcf1-e8ef51f05656",
   "metadata": {},
   "outputs": [
    {
     "name": "stdout",
     "output_type": "stream",
     "text": [
      "Number of selected muons after pt,eta sel:  3690368\n"
     ]
    }
   ],
   "source": [
    "selected_muons = selected_muons[(selected_muons.pt > 3.0) & (abs(selected_muons.eta) < 2.4)]\n",
    "print(\"Number of selected muons after pt,eta sel: \", ak.count(selected_muons.mass, axis=None).compute())"
   ]
  },
  {
   "cell_type": "code",
   "execution_count": null,
   "id": "49d27576-8b67-49ef-87af-e95cd440b94f",
   "metadata": {},
   "outputs": [],
   "source": []
  }
 ],
 "metadata": {
  "kernelspec": {
   "display_name": "Python 3 (ipykernel)",
   "language": "python",
   "name": "python3"
  },
  "language_info": {
   "codemirror_mode": {
    "name": "ipython",
    "version": 3
   },
   "file_extension": ".py",
   "mimetype": "text/x-python",
   "name": "python",
   "nbconvert_exporter": "python",
   "pygments_lexer": "ipython3",
   "version": "3.10.5"
  }
 },
 "nbformat": 4,
 "nbformat_minor": 5
}
