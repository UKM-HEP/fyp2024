{
 "cells": [
  {
   "cell_type": "code",
   "execution_count": 1,
   "id": "d4129869-bc12-4f75-a4f0-c33e55b0e08d",
   "metadata": {},
   "outputs": [
    {
     "name": "stderr",
     "output_type": "stream",
     "text": [
      "/usr/local/venv/lib/python3.10/site-packages/coffea/nanoevents/schemas/fcc.py:5: FutureWarning: In version 2025.1.0 (target date: 2024-12-31 11:59:59-06:00), this will be an error.\n",
      "To raise these warnings as errors (and get stack traces to find out where they're called), run\n",
      "    import warnings\n",
      "    warnings.filterwarnings(\"error\", module=\"coffea.*\")\n",
      "after the first `import coffea` or use `@pytest.mark.filterwarnings(\"error:::coffea.*\")` in pytest.\n",
      "Issue: coffea.nanoevents.methods.vector will be removed and replaced with scikit-hep vector. Nanoevents schemas internal to coffea will be migrated. Otherwise please consider using that package!.\n",
      "  from coffea.nanoevents.methods import vector\n",
      "/usr/local/venv/lib/python3.10/site-packages/coffea/nanoevents/schemas/nanoaod.py:264: RuntimeWarning: Missing cross-reference index for LowPtElectron_electronIdx => Electron\n",
      "  warnings.warn(\n",
      "/usr/local/venv/lib/python3.10/site-packages/coffea/nanoevents/schemas/nanoaod.py:264: RuntimeWarning: Missing cross-reference index for LowPtElectron_photonIdx => Photon\n",
      "  warnings.warn(\n"
     ]
    },
    {
     "name": "stdout",
     "output_type": "stream",
     "text": [
      "Number of events =  2147195\n"
     ]
    }
   ],
   "source": [
    "import awkward as ak\n",
    "from coffea.nanoevents import NanoEventsFactory, NanoAODSchema\n",
    "\n",
    "#fname = \"root://eospublic.cern.ch//eos/opendata/cms/Run2016H/DoubleMuon/NANOAOD/UL2016_MiniAODv2_NanoAODv9-v1/2510000/127C2975-1B1C-A046-AABF-62B77E757A86.root\"\n",
    "fname = \"file:/opendata_cms/DoubleMuon/Run2016H-UL2016_MiniAODv2_NanoAODv9-v1/NANOAOD/127C2975-1B1C-A046-AABF-62B77E757A86.root\"\n",
    "events = NanoEventsFactory.from_root(\n",
    "    {fname: \"Events\"},\n",
    "    schemaclass=NanoAODSchema,\n",
    "    metadata={\"dataset\": \"DoubleMuon\"},\n",
    ").events()\n",
    "\n",
    "print(\"Number of events = \", ak.num(events.Muon, axis=0).compute())"
   ]
  },
  {
   "cell_type": "code",
   "execution_count": 2,
   "id": "5d14bff8-5971-4865-8b96-84ad73872a61",
   "metadata": {},
   "outputs": [
    {
     "name": "stdout",
     "output_type": "stream",
     "text": [
      "Number of muons =  4806013\n"
     ]
    }
   ],
   "source": [
    "print(\"Number of muons = \", ak.count(events.Muon.mass, axis=None).compute())"
   ]
  },
  {
   "cell_type": "code",
   "execution_count": 3,
   "id": "54b21cbc-ac2c-4913-a4ae-ba1e5839a621",
   "metadata": {},
   "outputs": [
    {
     "name": "stdout",
     "output_type": "stream",
     "text": [
      "Number of selected muons after isGlobal==1:  4110800\n"
     ]
    }
   ],
   "source": [
    "selected_muons = events.Muon[(events.Muon.isGlobal == 1)]\n",
    "print(\"Number of selected muons after isGlobal==1: \", ak.count(selected_muons.mass, axis=None).compute())"
   ]
  },
  {
   "cell_type": "code",
   "execution_count": 4,
   "id": "1f3e24ce-4359-4f49-a564-c83aff818980",
   "metadata": {},
   "outputs": [
    {
     "name": "stdout",
     "output_type": "stream",
     "text": [
      "Number of selected muons after nStations>0:  3936437\n"
     ]
    }
   ],
   "source": [
    "selected_muons = selected_muons[(selected_muons.nStations > 0)]\n",
    "print(\"Number of selected muons after nStations>0: \", ak.count(selected_muons.mass, axis=None).compute())"
   ]
  },
  {
   "cell_type": "code",
   "execution_count": 5,
   "id": "b69173dc-99be-4559-91c5-9276337d6f11",
   "metadata": {},
   "outputs": [
    {
     "name": "stdout",
     "output_type": "stream",
     "text": [
      "Number of selected muons after nTrackerLayers>5:  3908889\n"
     ]
    }
   ],
   "source": [
    "selected_muons = selected_muons[(selected_muons.nTrackerLayers > 5)]\n",
    "print(\"Number of selected muons after nTrackerLayers>5: \", ak.count(selected_muons.mass, axis=None).compute())"
   ]
  },
  {
   "cell_type": "code",
   "execution_count": 6,
   "id": "bfa44cab-782f-4991-8dde-8d73f285bba5",
   "metadata": {},
   "outputs": [
    {
     "name": "stdout",
     "output_type": "stream",
     "text": [
      "Number of selected muons after PV impact param sel:  3892547\n"
     ]
    }
   ],
   "source": [
    "selected_muons = selected_muons[(selected_muons.dxy < 0.3) & (selected_muons.dz < 20.0)]\n",
    "print(\"Number of selected muons after PV impact param sel: \", ak.count(selected_muons.mass, axis=None).compute())       "
   ]
  },
  {
   "cell_type": "code",
   "execution_count": 7,
   "id": "9aead1b7-532c-4120-bcf1-e8ef51f05656",
   "metadata": {},
   "outputs": [
    {
     "name": "stdout",
     "output_type": "stream",
     "text": [
      "Number of selected muons after pt,eta sel:  3883500\n"
     ]
    }
   ],
   "source": [
    "selected_muons = selected_muons[(selected_muons.pt > 3.0) & (abs(selected_muons.eta) < 2.4)]\n",
    "print(\"Number of selected muons after pt,eta sel: \", ak.count(selected_muons.mass, axis=None).compute())"
   ]
  },
  {
   "cell_type": "code",
   "execution_count": 8,
   "id": "49d27576-8b67-49ef-87af-e95cd440b94f",
   "metadata": {},
   "outputs": [
    {
     "name": "stdout",
     "output_type": "stream",
     "text": [
      "Number of selected muons after ptcone30 isolation:  2681124\n"
     ]
    }
   ],
   "source": [
    "selected_muons = selected_muons[(selected_muons.pfRelIso03_chg < 0.5)]\n",
    "print(\"Number of selected muons after ptcone30 isolation: \", ak.count(selected_muons.mass, axis=None).compute())"
   ]
  },
  {
   "cell_type": "code",
   "execution_count": 9,
   "id": "67bff0ec-4ba8-4242-a390-84c9f7ee2c9a",
   "metadata": {},
   "outputs": [
    {
     "name": "stdout",
     "output_type": "stream",
     "text": [
      "Number of selected events with num(muons)>0:  1604214\n",
      "Corresponding number of selected muons:  2681124\n"
     ]
    }
   ],
   "source": [
    "selectede_muons = selected_muons[ak.num(selected_muons) > 0]\n",
    "print(\"Number of selected events with num(muons)>0: \", ak.num(selectede_muons.mass, axis=0).compute())\n",
    "print(\"Corresponding number of selected muons: \", ak.count(selectede_muons.mass, axis=None).compute())"
   ]
  },
  {
   "cell_type": "code",
   "execution_count": 10,
   "id": "a9e45eb0-ea24-48be-a39a-fadd65b232e7",
   "metadata": {},
   "outputs": [],
   "source": [
    "selected_muons_c = selected_muons.compute()"
   ]
  },
  {
   "cell_type": "code",
   "execution_count": 11,
   "id": "093d30a3-ac24-498d-890f-a05942a0b0e2",
   "metadata": {},
   "outputs": [],
   "source": [
    "def find_4lep(events_leptons, builder):\n",
    "    \"\"\"Search for valid 4-lepton combinations from an array of events * leptons {charge, ...}\n",
    "\n",
    "    A valid candidate has two pairs of leptons that each have balanced charge\n",
    "    Outputs an array of events * candidates {indices 0..3} corresponding to all valid\n",
    "    permutations of all valid combinations of unique leptons in each event\n",
    "    (omitting permutations of the pairs)\n",
    "    \"\"\"\n",
    "    for leptons in events_leptons:\n",
    "        builder.begin_list()\n",
    "        nlep = len(leptons)\n",
    "        for i0 in range(nlep):\n",
    "            for i1 in range(i0 + 1, nlep):\n",
    "                if leptons[i0].charge + leptons[i1].charge != 0:\n",
    "                    continue\n",
    "                for i2 in range(nlep):\n",
    "                    for i3 in range(i2 + 1, nlep):\n",
    "                        if len({i0, i1, i2, i3}) < 4:\n",
    "                            continue\n",
    "                        if leptons[i2].charge + leptons[i3].charge != 0:\n",
    "                            continue\n",
    "                        builder.begin_tuple(4)\n",
    "                        builder.index(0).integer(i0)\n",
    "                        builder.index(1).integer(i1)\n",
    "                        builder.index(2).integer(i2)\n",
    "                        builder.index(3).integer(i3)\n",
    "                        builder.end_tuple()\n",
    "        builder.end_list()\n",
    "\n",
    "    return builder\n"
   ]
  },
  {
   "cell_type": "code",
   "execution_count": 12,
   "id": "53cf69ff-b13b-47a5-8238-673a821f118c",
   "metadata": {},
   "outputs": [
    {
     "name": "stdout",
     "output_type": "stream",
     "text": [
      "[[], [], [], [], [], [], [], [], [], ..., [], [], [], [], [], [], [], [], []]\n"
     ]
    }
   ],
   "source": [
    "fourmuon_f4l = find_4lep(selected_muons_c, ak.ArrayBuilder()).snapshot()\n",
    "if ak.all(ak.num(fourmuon_f4l) == 0):\n",
    "  print(\"No four muons at all!\")\n",
    "\n",
    "fourmuon_s = [selected_muons_c[fourmuon_f4l[idx]] for idx in \"0123\"]\n",
    "fourmuon = ak.zip({\n",
    "  \"z1\": ak.zip({\n",
    "    \"lep1\": fourmuon_s[0],\n",
    "    \"lep2\": fourmuon_s[1],\n",
    "    \"p4\": fourmuon_s[0] + fourmuon_s[1],\n",
    "  }),\n",
    "  \"z2\": ak.zip({\n",
    "    \"lep1\": fourmuon_s[2],\n",
    "    \"lep2\": fourmuon_s[3],\n",
    "    \"p4\": fourmuon_s[2] + fourmuon_s[3],\n",
    "  }),\n",
    "})\n",
    "\n",
    "print(fourmuon)"
   ]
  },
  {
   "cell_type": "code",
   "execution_count": 17,
   "id": "d1dbe6ea-9a19-4eec-bbeb-5acc1cd3aa3b",
   "metadata": {},
   "outputs": [
    {
     "name": "stdout",
     "output_type": "stream",
     "text": [
      "Number of 4-muon combination:  13064\n"
     ]
    }
   ],
   "source": [
    "print(\"Number of 4-muon combination: \", ak.count(fourmuon.z1.p4.mass, axis=None))"
   ]
  },
  {
   "cell_type": "code",
   "execution_count": null,
   "id": "b89b9c03-4d03-46c2-b751-f6190bbc7b03",
   "metadata": {},
   "outputs": [],
   "source": []
  }
 ],
 "metadata": {
  "kernelspec": {
   "display_name": "Python 3 (ipykernel)",
   "language": "python",
   "name": "python3"
  },
  "language_info": {
   "codemirror_mode": {
    "name": "ipython",
    "version": 3
   },
   "file_extension": ".py",
   "mimetype": "text/x-python",
   "name": "python",
   "nbconvert_exporter": "python",
   "pygments_lexer": "ipython3",
   "version": "3.10.5"
  }
 },
 "nbformat": 4,
 "nbformat_minor": 5
}
